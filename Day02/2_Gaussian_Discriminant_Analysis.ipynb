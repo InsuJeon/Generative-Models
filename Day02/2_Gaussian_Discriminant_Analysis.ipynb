{
 "cells": [
  {
   "cell_type": "markdown",
   "metadata": {},
   "source": [
    "# 2_Gaussian_Discriminant_Analysis"
   ]
  },
  {
   "cell_type": "code",
   "execution_count": 9,
   "metadata": {},
   "outputs": [
    {
     "data": {
      "text/plain": [
       "<torch._C.Generator at 0x7f86279ba3d0>"
      ]
     },
     "execution_count": 9,
     "metadata": {},
     "output_type": "execute_result"
    }
   ],
   "source": [
    "import torch\n",
    "import numpy as np\n",
    "from torch.autograd import Variable\n",
    "import torch.nn as nn\n",
    "import matplotlib.pyplot as plt # Needs for Ploting\n",
    "%matplotlib inline\n",
    "torch.manual_seed(888)    # reproducible"
   ]
  },
  {
   "cell_type": "markdown",
   "metadata": {},
   "source": [
    "## Prepare Data"
   ]
  },
  {
   "cell_type": "code",
   "execution_count": 10,
   "metadata": {},
   "outputs": [
    {
     "data": {
      "image/png": "[encoded data removed]",
      "text/plain": [
       "<Figure size 432x288 with 1 Axes>"
      ]
     },
     "metadata": {
      "needs_background": "light"
     },
     "output_type": "display_data"
    },
    {
     "data": {
      "text/plain": [
       "tensor([[ 1.9233,  0.8776,  0.0000],\n",
       "        [ 1.8682,  0.1658,  0.0000],\n",
       "        [ 2.5491,  0.3336,  0.0000],\n",
       "        [ 1.0085,  2.0562,  0.0000],\n",
       "        [ 1.6976,  0.9487,  0.0000],\n",
       "        [ 1.4894,  2.1460,  0.0000],\n",
       "        [ 0.3763,  2.5749,  0.0000],\n",
       "        [ 3.4396,  3.0438,  0.0000],\n",
       "        [ 1.9560,  2.1769,  0.0000],\n",
       "        [ 0.7679,  3.5142,  0.0000],\n",
       "        [ 2.1770,  2.7858,  0.0000],\n",
       "        [ 3.2745,  0.9453,  0.0000],\n",
       "        [ 1.7331,  1.4741,  0.0000],\n",
       "        [ 1.6297,  0.8627,  0.0000],\n",
       "        [ 1.2333,  3.6529,  0.0000],\n",
       "        [ 1.6571,  1.1602,  0.0000],\n",
       "        [ 1.0911,  0.9823,  0.0000],\n",
       "        [ 1.6068,  0.8801,  0.0000],\n",
       "        [ 3.1155,  0.8023,  0.0000],\n",
       "        [ 0.7772,  1.9543,  0.0000],\n",
       "        [ 1.2300,  1.8254,  0.0000],\n",
       "        [ 2.4562,  0.1563,  0.0000],\n",
       "        [ 1.5602,  2.0071,  0.0000],\n",
       "        [ 1.8164,  3.6474,  0.0000],\n",
       "        [ 1.8297,  1.6803,  0.0000],\n",
       "        [ 2.1608,  0.3367,  0.0000],\n",
       "        [ 1.7141,  0.1869,  0.0000],\n",
       "        [ 2.3124,  1.0795,  0.0000],\n",
       "        [ 1.9108,  3.1180,  0.0000],\n",
       "        [ 3.1198,  1.1471,  0.0000],\n",
       "        [ 1.3894,  1.8643,  0.0000],\n",
       "        [ 2.9290,  1.5176,  0.0000],\n",
       "        [ 1.3503,  3.0499,  0.0000],\n",
       "        [ 2.1290, -0.3440,  0.0000],\n",
       "        [ 1.4779,  1.2253,  0.0000],\n",
       "        [ 1.1786,  2.3183,  0.0000],\n",
       "        [ 2.2275,  2.6067,  0.0000],\n",
       "        [ 2.9192,  2.2009,  0.0000],\n",
       "        [ 2.7750,  2.4006,  0.0000],\n",
       "        [ 3.5875,  0.7849,  0.0000],\n",
       "        [ 1.3341,  2.8890,  0.0000],\n",
       "        [ 1.4859, -0.2669,  0.0000],\n",
       "        [ 3.8593,  4.3351,  0.0000],\n",
       "        [ 1.6793,  1.5545,  0.0000],\n",
       "        [ 0.7510,  2.1200,  0.0000],\n",
       "        [ 1.1870,  2.6949,  0.0000],\n",
       "        [ 2.7067,  2.6309,  0.0000],\n",
       "        [ 3.0449,  0.9295,  0.0000],\n",
       "        [ 1.2833,  0.6733,  0.0000],\n",
       "        [ 0.6696,  2.3669,  0.0000],\n",
       "        [ 1.9042,  1.2965,  0.0000],\n",
       "        [ 0.9418,  2.0507,  0.0000],\n",
       "        [ 1.6689,  1.0389,  0.0000],\n",
       "        [ 1.5341,  3.1254,  0.0000],\n",
       "        [ 1.7815,  1.0000,  0.0000],\n",
       "        [ 2.8923,  0.1058,  0.0000],\n",
       "        [ 2.4367,  2.2367,  0.0000],\n",
       "        [ 1.7748,  1.2422,  0.0000],\n",
       "        [ 2.3725,  1.4485,  0.0000],\n",
       "        [ 1.0480,  2.5526,  0.0000],\n",
       "        [ 3.1757,  1.6916,  0.0000],\n",
       "        [ 1.6142,  1.6268,  0.0000],\n",
       "        [ 3.9523,  2.9500,  0.0000],\n",
       "        [ 2.8316,  2.5139,  0.0000],\n",
       "        [ 3.2570,  3.2288,  0.0000],\n",
       "        [ 0.5943,  2.4096,  0.0000],\n",
       "        [ 2.0436,  2.5356,  0.0000],\n",
       "        [ 1.5542,  2.1824,  0.0000],\n",
       "        [ 2.2751,  2.5520,  0.0000],\n",
       "        [ 3.5919,  2.3398,  0.0000],\n",
       "        [ 1.6003,  1.6455,  0.0000],\n",
       "        [ 0.0766,  2.1222,  0.0000],\n",
       "        [ 2.7195,  0.8842,  0.0000],\n",
       "        [ 2.5447,  2.2026,  0.0000],\n",
       "        [ 1.5327,  0.8781,  0.0000],\n",
       "        [ 1.5471,  1.0290,  0.0000],\n",
       "        [ 3.0598,  2.0349,  0.0000],\n",
       "        [ 0.8597,  0.7382,  0.0000],\n",
       "        [ 2.6800,  0.8460,  0.0000],\n",
       "        [ 2.5815,  0.1901,  0.0000],\n",
       "        [ 3.2823,  1.8101,  0.0000],\n",
       "        [ 2.6968,  2.0653,  0.0000],\n",
       "        [ 2.3801,  1.0904,  0.0000],\n",
       "        [ 3.5737,  2.5865,  0.0000],\n",
       "        [ 1.2373,  2.3480,  0.0000],\n",
       "        [ 1.7330,  0.4588,  0.0000],\n",
       "        [ 1.0739,  1.4984,  0.0000],\n",
       "        [ 1.6928,  2.4943,  0.0000],\n",
       "        [ 2.0176,  0.3274,  0.0000],\n",
       "        [ 1.3609,  2.4621,  0.0000],\n",
       "        [ 3.2606,  1.5705,  0.0000],\n",
       "        [ 0.3309,  2.3943,  0.0000],\n",
       "        [ 1.9413,  2.3655,  0.0000],\n",
       "        [ 3.0917,  3.5873,  0.0000],\n",
       "        [ 0.8817,  2.5228,  0.0000],\n",
       "        [ 2.8640,  1.5485,  0.0000],\n",
       "        [ 2.4033,  0.3403,  0.0000],\n",
       "        [ 1.8030,  1.3543,  0.0000],\n",
       "        [ 0.4274,  0.5909,  0.0000],\n",
       "        [ 1.2939,  3.8799,  0.0000],\n",
       "        [-2.6958, -1.9909,  1.0000],\n",
       "        [-1.4968, -1.0513,  1.0000],\n",
       "        [-1.2839, -1.9835,  1.0000],\n",
       "        [-4.5190, -3.3246,  1.0000],\n",
       "        [-2.0878, -3.6423,  1.0000],\n",
       "        [-3.6288, -0.3941,  1.0000],\n",
       "        [-3.0720, -3.8240,  1.0000],\n",
       "        [-0.5516, -2.0231,  1.0000],\n",
       "        [-2.5279, -0.9834,  1.0000],\n",
       "        [-2.7296, -2.3271,  1.0000],\n",
       "        [-1.8482, -2.5761,  1.0000],\n",
       "        [-1.3818, -3.4594,  1.0000],\n",
       "        [-2.5222, -3.3763,  1.0000],\n",
       "        [-2.1274, -1.3971,  1.0000],\n",
       "        [-1.6584, -0.7100,  1.0000],\n",
       "        [-0.8784, -3.2467,  1.0000],\n",
       "        [-2.4096, -1.6192,  1.0000],\n",
       "        [-2.0334, -1.9322,  1.0000],\n",
       "        [-2.5713, -2.0295,  1.0000],\n",
       "        [-1.1431, -0.5702,  1.0000],\n",
       "        [-1.9353, -2.6891,  1.0000],\n",
       "        [-2.6626, -0.9464,  1.0000],\n",
       "        [-1.7334, -1.0991,  1.0000],\n",
       "        [-1.8442, -2.3610,  1.0000],\n",
       "        [-1.6004, -1.0070,  1.0000],\n",
       "        [-1.1532, -1.5077,  1.0000],\n",
       "        [-2.5356, -3.6335,  1.0000],\n",
       "        [-1.9627, -2.8089,  1.0000],\n",
       "        [-2.6650, -2.7040,  1.0000],\n",
       "        [-2.8124, -2.2325,  1.0000],\n",
       "        [-1.8756, -2.8225,  1.0000],\n",
       "        [-2.1178, -1.2818,  1.0000],\n",
       "        [-1.5312, -1.6791,  1.0000],\n",
       "        [-3.7407, -3.2633,  1.0000],\n",
       "        [-2.5020, -2.8350,  1.0000],\n",
       "        [-3.2793, -1.5518,  1.0000],\n",
       "        [ 0.0252, -1.1048,  1.0000],\n",
       "        [-1.5160, -2.3761,  1.0000],\n",
       "        [-0.8510, -2.2143,  1.0000],\n",
       "        [-2.5648, -0.9605,  1.0000],\n",
       "        [-1.0964, -2.4960,  1.0000],\n",
       "        [-1.5372, -1.9375,  1.0000],\n",
       "        [-1.3098, -2.8286,  1.0000],\n",
       "        [-0.5358, -0.3934,  1.0000],\n",
       "        [-3.0851, -1.8370,  1.0000],\n",
       "        [-0.9873, -2.2687,  1.0000],\n",
       "        [-0.5143, -4.3349,  1.0000],\n",
       "        [-4.1348, -1.0794,  1.0000],\n",
       "        [-1.6505, -1.8050,  1.0000],\n",
       "        [-3.5700, -2.7940,  1.0000],\n",
       "        [-3.8440, -2.3826,  1.0000],\n",
       "        [-1.1611, -2.7124,  1.0000],\n",
       "        [-1.8421,  0.4611,  1.0000],\n",
       "        [-2.8712, -2.0988,  1.0000],\n",
       "        [-2.2352, -1.0510,  1.0000],\n",
       "        [-2.6428, -2.3804,  1.0000],\n",
       "        [-1.8810, -0.5423,  1.0000],\n",
       "        [-1.4298, -1.5222,  1.0000],\n",
       "        [-2.5761, -5.9719,  1.0000],\n",
       "        [-1.2085, -2.5451,  1.0000],\n",
       "        [-2.2697, -0.9557,  1.0000],\n",
       "        [-3.1611, -0.3487,  1.0000],\n",
       "        [-2.1482, -0.3071,  1.0000],\n",
       "        [-1.2407, -0.5023,  1.0000],\n",
       "        [-1.3542, -4.3587,  1.0000],\n",
       "        [-1.0359, -2.4553,  1.0000],\n",
       "        [-3.3462, -2.1811,  1.0000],\n",
       "        [-2.0334, -1.4468,  1.0000],\n",
       "        [-2.7607, -1.7300,  1.0000],\n",
       "        [-3.0348, -2.7183,  1.0000],\n",
       "        [-0.4961, -4.8833,  1.0000],\n",
       "        [-1.7830, -1.8046,  1.0000],\n",
       "        [-1.3578, -0.9286,  1.0000],\n",
       "        [-1.0677, -2.8289,  1.0000],\n",
       "        [-0.8251, -0.5411,  1.0000],\n",
       "        [-3.9102, -2.6585,  1.0000],\n",
       "        [-2.1792, -1.8113,  1.0000],\n",
       "        [-1.2771, -2.2605,  1.0000],\n",
       "        [-0.8906, -2.8085,  1.0000],\n",
       "        [ 0.5797, -0.6225,  1.0000],\n",
       "        [-1.7447,  0.0550,  1.0000],\n",
       "        [-2.5003, -1.2459,  1.0000],\n",
       "        [-0.0885, -0.8769,  1.0000],\n",
       "        [-1.0799, -2.0290,  1.0000],\n",
       "        [-0.5554, -4.5458,  1.0000],\n",
       "        [ 0.4116, -2.3242,  1.0000],\n",
       "        [-1.6455, -1.1622,  1.0000],\n",
       "        [-0.6435,  0.1757,  1.0000],\n",
       "        [-2.7871, -3.4846,  1.0000],\n",
       "        [-2.1827, -1.1772,  1.0000],\n",
       "        [-1.3988, -1.2843,  1.0000],\n",
       "        [-0.5023, -1.9206,  1.0000],\n",
       "        [-3.3228, -2.1228,  1.0000],\n",
       "        [-2.7953, -1.4748,  1.0000],\n",
       "        [-2.6694, -1.5071,  1.0000],\n",
       "        [-1.4292, -2.0836,  1.0000],\n",
       "        [-1.4511, -3.0193,  1.0000],\n",
       "        [-1.3582, -0.3468,  1.0000],\n",
       "        [-3.8638, -2.4190,  1.0000],\n",
       "        [-1.2789, -3.5740,  1.0000]])"
      ]
     },
     "execution_count": 10,
     "metadata": {},
     "output_type": "execute_result"
    }
   ],
   "source": [
    "# make fake data\n",
    "n_data = torch.ones(100, 2)\n",
    "\n",
    "x0 = torch.normal(2*n_data, 1)        # class0 x data (tensor), shape=(100, 2)   mu=(2,2), var =1\n",
    "y0 = torch.zeros(100,1)               # class0 y data (tensor), shape=(100, 1)\n",
    "\n",
    "x1 = torch.normal(-2*n_data, 1)       # class1 x data (tensor), shape=(100, 2)   mu=(-2,2), var=1\n",
    "y1 = torch.ones(100,1)                # class1 y data (tensor), shape=(100, 1)\n",
    "\n",
    "x = torch.cat((x0, x1)).type(torch.FloatTensor)    # shape (200, 2) FloatTensor = 32-bit floating\n",
    "y = torch.cat((y0, y1)).type(torch.FloatTensor)    # shape (200, 1) FloatTensor = 32-bit integer\n",
    "\n",
    "plt.scatter(x.data.numpy()[:,0], x.data.numpy()[:,1], c=y.squeeze().numpy(), s=100, lw=0, cmap='RdYlGn')\n",
    "plt.show()\n",
    "\n",
    "torch.cat((x, y),dim=1)"
   ]
  },
  {
   "cell_type": "markdown",
   "metadata": {},
   "source": [
    "## GDA Model and Parameters Estimation"
   ]
  },
  {
   "cell_type": "markdown",
   "metadata": {},
   "source": [
    "### $p(y=1) = \\phi = \\frac{1}{m}\\sum_{i=1}^{m}{1\\{y^{(i)}=1}\\}$  "
   ]
  },
  {
   "cell_type": "code",
   "execution_count": 11,
   "metadata": {},
   "outputs": [
    {
     "data": {
      "text/plain": [
       "tensor(0.5000)"
      ]
     },
     "execution_count": 11,
     "metadata": {},
     "output_type": "execute_result"
    }
   ],
   "source": [
    "phi1 = (y==1).sum().float()/200\n",
    "phi0 = 1-phi1\n",
    "phi1"
   ]
  },
  {
   "cell_type": "markdown",
   "metadata": {},
   "source": [
    "### $ \\mu_0 = \\frac{\n",
    "\\sum_{i=1}^{m}{1\\{y^{(i)}=0}\\} x^{(i)} } {\n",
    "\\sum_{i=1}^{m}{1\\{y^{(i)}=0}\\} } $"
   ]
  },
  {
   "cell_type": "code",
   "execution_count": 12,
   "metadata": {},
   "outputs": [
    {
     "data": {
      "text/plain": [
       "tensor([[1.9724, 1.7607]])"
      ]
     },
     "execution_count": 12,
     "metadata": {},
     "output_type": "execute_result"
    }
   ],
   "source": [
    "mu0 = x[(y==0).squeeze(),:].mean(0,keepdim=True)\n",
    "mu0"
   ]
  },
  {
   "cell_type": "markdown",
   "metadata": {},
   "source": [
    "### $\\mu_1 = \\frac{\n",
    "\\sum_{i=1}^{m}{1\\{y^{(i)}=1}\\} x^{(i)} } {\n",
    "\\sum_{i=1}^{m}{1\\{y^{(i)}=1}\\} } $"
   ]
  },
  {
   "cell_type": "code",
   "execution_count": 13,
   "metadata": {},
   "outputs": [
    {
     "data": {
      "text/plain": [
       "tensor([[-1.9262, -2.0058]])"
      ]
     },
     "execution_count": 13,
     "metadata": {},
     "output_type": "execute_result"
    }
   ],
   "source": [
    "mu1 = x[(y==1).squeeze(),:].mean(0,keepdim=True)\n",
    "mu1"
   ]
  },
  {
   "cell_type": "markdown",
   "metadata": {},
   "source": [
    "### $\\Sigma = diag(1,1)$"
   ]
  },
  {
   "cell_type": "code",
   "execution_count": 14,
   "metadata": {},
   "outputs": [
    {
     "data": {
      "text/plain": [
       "tensor([[1., 1.]])"
      ]
     },
     "execution_count": 14,
     "metadata": {},
     "output_type": "execute_result"
    }
   ],
   "source": [
    "sigma0 = torch.ones(1,2)\n",
    "sigma1 = torch.ones(1,2)\n",
    "sigma0"
   ]
  },
  {
   "cell_type": "markdown",
   "metadata": {},
   "source": [
    "## Prediction (Test)"
   ]
  },
  {
   "cell_type": "code",
   "execution_count": 15,
   "metadata": {},
   "outputs": [
    {
     "data": {
      "text/plain": [
       "tensor([[-1.1386, -3.4529]])"
      ]
     },
     "execution_count": 15,
     "metadata": {},
     "output_type": "execute_result"
    }
   ],
   "source": [
    "a_sample = torch.ones(1, 2)\n",
    "x_new = torch.normal(-2*a_sample, 1)        # sample x_new ~ Gaussian( mu=(2,2), var=diag(1,1))  (class0) \n",
    "x_new"
   ]
  },
  {
   "cell_type": "markdown",
   "metadata": {},
   "source": [
    "### Gaussian Distribution\n",
    "### $ p(x;\\mu, \\sigma)=\\frac{1}{\\sqrt{2\\pi|\\Sigma|} }\\exp\\left(-\\frac{1}{2}(x-\\mu)^T\\Sigma^{-1}(x-\\mu)\\right) $\n"
   ]
  },
  {
   "cell_type": "code",
   "execution_count": 22,
   "metadata": {},
   "outputs": [],
   "source": [
    "K=1\n",
    "def get_k_likelihoods(X, mu, var):\n",
    "    if var.eq(0).any(): raise Exception('variances must be nonzero')\n",
    "    sigma_inv = 1./var                                                        # (K, features)\n",
    "    coeff = 1./((2*np.pi*var).prod(dim=1)).sqrt()                             # (K )\n",
    "\n",
    "    likelihoods = coeff.view(K,1,1) * torch.exp(-0.5 *( (X-mu.unsqueeze(1))**2 @sigma_inv.unsqueeze(2)))  # @ is matrix multiplication\n",
    "    return likelihoods.squeeze(2)"
   ]
  },
  {
   "cell_type": "markdown",
   "metadata": {},
   "source": [
    "### likelihood $p(x|y=1) $"
   ]
  },
  {
   "cell_type": "code",
   "execution_count": 23,
   "metadata": {},
   "outputs": [
    {
     "ename": "RuntimeError",
     "evalue": "t() expects a 2D tensor, but self is 3D",
     "output_type": "error",
     "traceback": [
      "\u001b[0;31m---------------------------------------------------------------------------\u001b[0m",
      "\u001b[0;31mRuntimeError\u001b[0m                              Traceback (most recent call last)",
      "\u001b[0;32m<ipython-input-23-2b5d1fb5256d>\u001b[0m in \u001b[0;36m<module>\u001b[0;34m()\u001b[0m\n\u001b[0;32m----> 1\u001b[0;31m \u001b[0mprob1\u001b[0m \u001b[0;34m=\u001b[0m \u001b[0mget_k_likelihoods\u001b[0m\u001b[0;34m(\u001b[0m\u001b[0mx_new\u001b[0m\u001b[0;34m,\u001b[0m\u001b[0mmu1\u001b[0m\u001b[0;34m,\u001b[0m\u001b[0msigma1\u001b[0m\u001b[0;34m)\u001b[0m\u001b[0;34m\u001b[0m\u001b[0;34m\u001b[0m\u001b[0m\n\u001b[0m\u001b[1;32m      2\u001b[0m \u001b[0mprob1\u001b[0m\u001b[0;34m\u001b[0m\u001b[0;34m\u001b[0m\u001b[0m\n",
      "\u001b[0;32m<ipython-input-22-973f3ed83cd8>\u001b[0m in \u001b[0;36mget_k_likelihoods\u001b[0;34m(X, mu, var)\u001b[0m\n\u001b[1;32m      5\u001b[0m     \u001b[0msigma_inv\u001b[0m \u001b[0;34m=\u001b[0m \u001b[0;36m1.\u001b[0m\u001b[0;34m/\u001b[0m\u001b[0mvar\u001b[0m                                                        \u001b[0;31m# (K, features)\u001b[0m\u001b[0;34m\u001b[0m\u001b[0;34m\u001b[0m\u001b[0m\n\u001b[1;32m      6\u001b[0m     \u001b[0;31m#exponent = -0.5 *( (X - mu.unsqueeze(1))**2 @ sigma_inv.unsqueeze(2))      # @ is matrix multiplication\u001b[0m\u001b[0;34m\u001b[0m\u001b[0;34m\u001b[0m\u001b[0;34m\u001b[0m\u001b[0m\n\u001b[0;32m----> 7\u001b[0;31m     \u001b[0mexponent\u001b[0m \u001b[0;34m=\u001b[0m \u001b[0;34m-\u001b[0m\u001b[0;36m0.5\u001b[0m \u001b[0;34m*\u001b[0m\u001b[0;34m(\u001b[0m \u001b[0;34m(\u001b[0m\u001b[0;34m(\u001b[0m\u001b[0mX\u001b[0m \u001b[0;34m-\u001b[0m \u001b[0mmu\u001b[0m\u001b[0;34m.\u001b[0m\u001b[0munsqueeze\u001b[0m\u001b[0;34m(\u001b[0m\u001b[0;36m1\u001b[0m\u001b[0;34m)\u001b[0m\u001b[0;34m)\u001b[0m\u001b[0;34m.\u001b[0m\u001b[0mt\u001b[0m\u001b[0;34m(\u001b[0m\u001b[0;34m)\u001b[0m \u001b[0;34m@\u001b[0m \u001b[0msigma_inv\u001b[0m\u001b[0;34m.\u001b[0m\u001b[0munsqueeze\u001b[0m\u001b[0;34m(\u001b[0m\u001b[0;36m2\u001b[0m\u001b[0;34m)\u001b[0m\u001b[0;34m)\u001b[0m\u001b[0;34m@\u001b[0m\u001b[0;34m(\u001b[0m\u001b[0mX\u001b[0m \u001b[0;34m-\u001b[0m \u001b[0mmu\u001b[0m\u001b[0;34m.\u001b[0m\u001b[0munsqueeze\u001b[0m\u001b[0;34m(\u001b[0m\u001b[0;36m1\u001b[0m\u001b[0;34m)\u001b[0m\u001b[0;34m)\u001b[0m\u001b[0;34m)\u001b[0m      \u001b[0;31m# @ is matrix multiplication\u001b[0m\u001b[0;34m\u001b[0m\u001b[0;34m\u001b[0m\u001b[0m\n\u001b[0m\u001b[1;32m      8\u001b[0m     \u001b[0mlikelihoods\u001b[0m \u001b[0;34m=\u001b[0m \u001b[0mcoeff\u001b[0m\u001b[0;34m.\u001b[0m\u001b[0mview\u001b[0m\u001b[0;34m(\u001b[0m\u001b[0mK\u001b[0m\u001b[0;34m,\u001b[0m\u001b[0;36m1\u001b[0m\u001b[0;34m,\u001b[0m\u001b[0;36m1\u001b[0m\u001b[0;34m)\u001b[0m \u001b[0;34m*\u001b[0m \u001b[0mtorch\u001b[0m\u001b[0;34m.\u001b[0m\u001b[0mexp\u001b[0m\u001b[0;34m(\u001b[0m \u001b[0mexponent\u001b[0m \u001b[0;34m)\u001b[0m\u001b[0;34m\u001b[0m\u001b[0;34m\u001b[0m\u001b[0m\n\u001b[1;32m      9\u001b[0m     \u001b[0;32mreturn\u001b[0m \u001b[0mlikelihoods\u001b[0m\u001b[0;34m.\u001b[0m\u001b[0msqueeze\u001b[0m\u001b[0;34m(\u001b[0m\u001b[0;36m2\u001b[0m\u001b[0;34m)\u001b[0m\u001b[0;34m\u001b[0m\u001b[0;34m\u001b[0m\u001b[0m\n",
      "\u001b[0;31mRuntimeError\u001b[0m: t() expects a 2D tensor, but self is 3D"
     ]
    }
   ],
   "source": [
    "prob1 = get_k_likelihoods(x_new,mu1,sigma1)\n",
    "prob1"
   ]
  },
  {
   "cell_type": "markdown",
   "metadata": {},
   "source": [
    "### likelihood $p(x|y=0) $"
   ]
  },
  {
   "cell_type": "code",
   "execution_count": 10,
   "metadata": {},
   "outputs": [
    {
     "data": {
      "text/plain": [
       "tensor([[1.5770e-09]])"
      ]
     },
     "execution_count": 10,
     "metadata": {},
     "output_type": "execute_result"
    }
   ],
   "source": [
    "prob0 = get_k_likelihoods(x_new,mu0,sigma0)\n",
    "prob0"
   ]
  },
  {
   "cell_type": "markdown",
   "metadata": {},
   "source": [
    "### Decision Rule\n",
    "\n",
    "### y=1 if $\\frac{p(x|y=1)p(y=1)}{p(x|y=0)p(y=0)} > 1$"
   ]
  },
  {
   "cell_type": "code",
   "execution_count": 11,
   "metadata": {},
   "outputs": [
    {
     "data": {
      "text/plain": [
       "tensor([[1]], dtype=torch.uint8)"
      ]
     },
     "execution_count": 11,
     "metadata": {},
     "output_type": "execute_result"
    }
   ],
   "source": [
    "(prob1 * phi1) / (prob0 * phi0)  > 1"
   ]
  },
  {
   "cell_type": "markdown",
   "metadata": {},
   "source": [
    "### Bayese Rule\n",
    "\n",
    "## $p(y=1|x)=\\frac{p(x|y=1)p(y=1)}{p(x|y=1)p(y=1) + p(x|y=0)p(y=0)}$"
   ]
  },
  {
   "cell_type": "code",
   "execution_count": 12,
   "metadata": {},
   "outputs": [
    {
     "data": {
      "text/plain": [
       "tensor([[1.]])"
      ]
     },
     "execution_count": 12,
     "metadata": {},
     "output_type": "execute_result"
    }
   ],
   "source": [
    "p1 = (prob1 * phi1) / ((prob1 * phi1)+(prob0 * phi0))\n",
    "p1"
   ]
  },
  {
   "cell_type": "code",
   "execution_count": 13,
   "metadata": {},
   "outputs": [
    {
     "data": {
      "text/plain": [
       "tensor([[0.]])"
      ]
     },
     "execution_count": 13,
     "metadata": {},
     "output_type": "execute_result"
    }
   ],
   "source": [
    "1-p1"
   ]
  },
  {
   "cell_type": "markdown",
   "metadata": {},
   "source": [
    "## Draw Sample from GDA Model"
   ]
  },
  {
   "cell_type": "code",
   "execution_count": 14,
   "metadata": {},
   "outputs": [
    {
     "data": {
      "image/png": "[encoded data removed]",
      "text/plain": [
       "<Figure size 432x288 with 1 Axes>"
      ]
     },
     "metadata": {},
     "output_type": "display_data"
    }
   ],
   "source": [
    "# make fake data\n",
    "n_data = torch.ones(100, 2)\n",
    "\n",
    "x0 = torch.normal(mu0.repeat(100,1).data, 1)        # class0 x data (tensor), shape=(100, 2)   mu=(2,2), var =1\n",
    "y0 = torch.zeros(100,1)                             # class0 y data (tensor), shape=(100, 1)\n",
    "\n",
    "x1 = torch.normal(mu1.repeat(100,1).data, 1)        # class1 x data (tensor), shape=(100, 2)   mu=(-2,2), var=1\n",
    "y1 = torch.ones(100,1)                              # class1 y data (tensor), shape=(100, 1)\n",
    "\n",
    "x_sample = torch.cat((x0, x1)).type(torch.FloatTensor)     # shape (200, 2) FloatTensor = 32-bit floating\n",
    "y_sample = torch.cat((y0, y1)).type(torch.FloatTensor)     # shape (200, 1) FloatTensor = 32-bit integer\n",
    "\n",
    "plt.scatter(x_sample.data.numpy()[:,0], x.data.numpy()[:,1], c=y_sample.squeeze().numpy(), s=100, lw=0, cmap='RdYlGn')\n",
    "plt.show()"
   ]
  }
 ],
 "metadata": {
  "kernelspec": {
   "display_name": "Python 3",
   "language": "python",
   "name": "python3"
  },
  "language_info": {
   "codemirror_mode": {
    "name": "ipython",
    "version": 3
   },
   "file_extension": ".py",
   "mimetype": "text/x-python",
   "name": "python",
   "nbconvert_exporter": "python",
   "pygments_lexer": "ipython3",
   "version": "3.6.8"
  }
 },
 "nbformat": 4,
 "nbformat_minor": 2
}
