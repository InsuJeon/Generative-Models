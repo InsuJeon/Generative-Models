{
 "cells": [
  {
   "cell_type": "code",
   "execution_count": 1,
   "metadata": {
    "collapsed": true
   },
   "outputs": [
    {
     "ename": "ModuleNotFoundError",
     "evalue": "No module named 'data'",
     "output_type": "error",
     "traceback": [
      "\u001b[0;31m----------------------------------------------------------\u001b[0m",
      "\u001b[0;31mModuleNotFoundError\u001b[0m      Traceback (most recent call last)",
      "\u001b[0;32m<ipython-input-1-ea492c38abcc>\u001b[0m in \u001b[0;36m<module>\u001b[0;34m()\u001b[0m\n\u001b[1;32m     11\u001b[0m \u001b[0;32mfrom\u001b[0m \u001b[0mIPython\u001b[0m \u001b[0;32mimport\u001b[0m \u001b[0mdisplay\u001b[0m\u001b[0;34m\u001b[0m\u001b[0;34m\u001b[0m\u001b[0m\n\u001b[1;32m     12\u001b[0m \u001b[0mos\u001b[0m\u001b[0;34m.\u001b[0m\u001b[0mchdir\u001b[0m\u001b[0;34m(\u001b[0m\u001b[0;34m'..'\u001b[0m\u001b[0;34m)\u001b[0m\u001b[0;34m\u001b[0m\u001b[0;34m\u001b[0m\u001b[0m\n\u001b[0;32m---> 13\u001b[0;31m \u001b[0;32mimport\u001b[0m \u001b[0mdata\u001b[0m\u001b[0;34m\u001b[0m\u001b[0;34m\u001b[0m\u001b[0m\n\u001b[0m\u001b[1;32m     14\u001b[0m \u001b[0mos\u001b[0m\u001b[0;34m.\u001b[0m\u001b[0mchdir\u001b[0m\u001b[0;34m(\u001b[0m\u001b[0;34m'notebooks'\u001b[0m\u001b[0;34m)\u001b[0m\u001b[0;34m\u001b[0m\u001b[0;34m\u001b[0m\u001b[0m\n",
      "\u001b[0;31mModuleNotFoundError\u001b[0m: No module named 'data'"
     ]
    }
   ],
   "source": [
    "import torch\n",
    "import torch.nn as nn\n",
    "import torch.nn.functional as F\n",
    "import torchvision\n",
    "import numpy as np\n",
    "import matplotlib\n",
    "import matplotlib.pyplot as plt\n",
    "import matplotlib.gridspec as gridspec\n",
    "%matplotlib inline\n",
    "import os\n",
    "from IPython import display\n",
    "os.chdir('..')\n",
    "import data\n",
    "os.chdir('notebooks')"
   ]
  },
  {
   "cell_type": "code",
   "execution_count": 14,
   "metadata": {},
   "outputs": [],
   "source": [
    "import shutil\n",
    "#shutil.rmtree('octa/pred_mean//')"
   ]
  },
  {
   "cell_type": "code",
   "execution_count": 4,
   "metadata": {},
   "outputs": [],
   "source": [
    "z_dim = 128\n",
    "batch = 128\n",
    "max_step = 50001\n",
    "summary_step = 100"
   ]
  },
  {
   "cell_type": "code",
   "execution_count": 5,
   "metadata": {},
   "outputs": [],
   "source": [
    "class Generator(nn.Module):\n",
    "    def __init__(self):\n",
    "        super().__init__()\n",
    "        self._net = nn.Sequential(\n",
    "            nn.Linear(z_dim, 128),\n",
    "            nn.ReLU(),\n",
    "            nn.Linear(128, 128),\n",
    "            nn.ReLU(),\n",
    "        )\n",
    "        self.mean_fc = nn.Linear(128, 2)\n",
    "        self.var_fc = nn.Linear(128, 2)\n",
    "    \n",
    "    def forward(self, z):\n",
    "        h = self._net(z)\n",
    "        return self.mean_fc(h), self.var_fc(h)\n",
    "\n",
    "\n",
    "class Discriminator(nn.Module):\n",
    "    def __init__(self):\n",
    "        super().__init__()\n",
    "        self._net = nn.Sequential(\n",
    "            nn.Linear(2, 128),\n",
    "            nn.ReLU(),\n",
    "            nn.Linear(128, 128),\n",
    "            nn.ReLU(),\n",
    "            nn.Linear(128, 1),\n",
    "            nn.Sigmoid()\n",
    "        )\n",
    "    \n",
    "    def forward(self, x):\n",
    "        return self._net(x)"
   ]
  },
  {
   "cell_type": "code",
   "execution_count": 6,
   "metadata": {},
   "outputs": [],
   "source": [
    "device = torch.device(\"cuda:0\")"
   ]
  },
  {
   "cell_type": "markdown",
   "metadata": {},
   "source": [
    "# Read Data"
   ]
  },
  {
   "cell_type": "code",
   "execution_count": 15,
   "metadata": {},
   "outputs": [],
   "source": [
    "def generate_data():\n",
    "    num_data = 50000\n",
    "    noise_std = 0.1\n",
    "    radius = 1\n",
    "    rad = np.random.choice([\n",
    "        0, np.pi / 4, np.pi / 2, 3 * np.pi / 4,\n",
    "        np.pi, 5 * np.pi / 4, 3 * np.pi / 2, 7 * np.pi / 4\n",
    "    ], [num_data])\n",
    "    data = np.stack([radius * np.cos(rad), radius * np.sin(rad)], axis=1)\n",
    "    noise = np.random.normal(0, noise_std, data.shape)\n",
    "    return data + noise\n",
    "    \n",
    "raw_data = generate_data()\n",
    "dataset = torch.utils.data.TensorDataset(torch.Tensor(raw_data))\n",
    "dataset.vector_preprocess = lambda x: x\n",
    "#data_iterator = data.DataIterator(dataset, batch_size=batch, sampler=data.InfiniteRandomSampler(dataset))"
   ]
  },
  {
   "cell_type": "code",
   "execution_count": 20,
   "metadata": {},
   "outputs": [
    {
     "data": {
      "text/plain": [
       "array([[ 0.12963152, -1.1354435 ],\n",
       "       [-0.0690444 ,  0.87052675],\n",
       "       [-0.05483682,  1.04465169],\n",
       "       ...,\n",
       "       [ 0.87101206, -0.1739673 ],\n",
       "       [-0.7568259 ,  0.72366955],\n",
       "       [ 1.09713994,  0.14930306]])"
      ]
     },
     "execution_count": 20,
     "metadata": {},
     "output_type": "execute_result"
    }
   ],
   "source": [
    "raw_data"
   ]
  },
  {
   "cell_type": "markdown",
   "metadata": {},
   "source": [
    "# Visualize the Data"
   ]
  },
  {
   "cell_type": "code",
   "execution_count": 18,
   "metadata": {},
   "outputs": [
    {
     "data": {
      "image/png": "[encoded data removed]",
      "text/plain": [
       "<Figure size 200x200 with 1 Axes>"
      ]
     },
     "metadata": {},
     "output_type": "display_data"
    }
   ],
   "source": [
    "vis_limit = 2.0\n",
    "\n",
    "def visualize_samples(samples, save_path=None):\n",
    "    fig = plt.figure(figsize=(2,2), dpi=100)\n",
    "    plt.plot(samples[:,0], samples[:,1], 'b.', markersize=1, alpha=0.2)\n",
    "    axes = plt.gca()\n",
    "    axes.set_xlim([-vis_limit, vis_limit])\n",
    "    axes.set_ylim([-vis_limit, vis_limit])\n",
    "    plt.xticks([])\n",
    "    plt.yticks([])\n",
    "    plt.show()\n",
    "    \n",
    "    if save_path:\n",
    "        os.makedirs(os.path.dirname(save_path), exist_ok=True)\n",
    "        fig.savefig(save_path, bbox_inches='tight', pad_inches=0)\n",
    "\n",
    "    return fig\n",
    "\n",
    "grid_size = 64\n",
    "grid = np.tile(np.reshape(np.linspace(-vis_limit, vis_limit, grid_size), (grid_size, 1)), (1, grid_size))\n",
    "coord = np.stack([np.transpose(grid), grid], axis=2)\n",
    "coord = coord[::-1, :]\n",
    "coord = np.reshape(coord, [grid_size ** 2, 2])\n",
    "coord = torch.Tensor(coord).to(device)\n",
    "\n",
    "def visualize_discriminator(d):\n",
    "    with torch.no_grad():\n",
    "        verdicts = d(coord).cpu().numpy()\n",
    "    verdicts = np.reshape(verdicts, [grid_size, grid_size])\n",
    "    fig = plt.figure(figsize=(2,2), dpi=100)\n",
    "    plt.imshow(verdicts)\n",
    "    plt.xticks([])\n",
    "    plt.yticks([])\n",
    "    plt.show()\n",
    "    return fig\n",
    "\n",
    "fig = visualize_samples(raw_data[:1000], save_path='octa/data.png')"
   ]
  },
  {
   "cell_type": "markdown",
   "metadata": {},
   "source": [
    "# Train GAN"
   ]
  },
  {
   "cell_type": "code",
   "execution_count": 19,
   "metadata": {},
   "outputs": [
    {
     "ename": "NameError",
     "evalue": "name 'data_iterator' is not defined",
     "output_type": "error",
     "traceback": [
      "\u001b[0;31m----------------------------------------------------------\u001b[0m",
      "\u001b[0;31mNameError\u001b[0m                Traceback (most recent call last)",
      "\u001b[0;32m<ipython-input-19-949525873247>\u001b[0m in \u001b[0;36m<module>\u001b[0;34m()\u001b[0m\n\u001b[1;32m     12\u001b[0m \u001b[0;32mfor\u001b[0m \u001b[0mstep\u001b[0m \u001b[0;32min\u001b[0m \u001b[0mrange\u001b[0m\u001b[0;34m(\u001b[0m\u001b[0msummary_step\u001b[0m \u001b[0;34m*\u001b[0m \u001b[0;36m200\u001b[0m\u001b[0;34m)\u001b[0m\u001b[0;34m:\u001b[0m\u001b[0;34m\u001b[0m\u001b[0;34m\u001b[0m\u001b[0m\n\u001b[1;32m     13\u001b[0m     \u001b[0;31m# Train D\u001b[0m\u001b[0;34m\u001b[0m\u001b[0;34m\u001b[0m\u001b[0;34m\u001b[0m\u001b[0m\n\u001b[0;32m---> 14\u001b[0;31m     \u001b[0mx\u001b[0m \u001b[0;34m=\u001b[0m \u001b[0mnext\u001b[0m\u001b[0;34m(\u001b[0m\u001b[0mdata_iterator\u001b[0m\u001b[0;34m)\u001b[0m\u001b[0;34m.\u001b[0m\u001b[0mto\u001b[0m\u001b[0;34m(\u001b[0m\u001b[0mdevice\u001b[0m\u001b[0;34m)\u001b[0m\u001b[0;34m\u001b[0m\u001b[0;34m\u001b[0m\u001b[0m\n\u001b[0m\u001b[1;32m     15\u001b[0m     z = torch.normal(torch.zeros((x.size(0), z_dim)),\n\u001b[1;32m     16\u001b[0m                      torch.ones((x.size(0), z_dim))).to(device)\n",
      "\u001b[0;31mNameError\u001b[0m: name 'data_iterator' is not defined"
     ]
    }
   ],
   "source": [
    "G = Generator().to(device)\n",
    "D = Discriminator().to(device)\n",
    "G_optimizer = torch.optim.Adam(G.parameters(), lr=0.0001)\n",
    "D_optimizer = torch.optim.Adam(D.parameters(), lr=0.0001)\n",
    "criterion = nn.BCELoss()\n",
    "real_label = 1\n",
    "fake_label = 0\n",
    "summary_step = 10\n",
    "\n",
    "# Train\n",
    "training_loss_sum = 0.0\n",
    "for step in range(summary_step * 200):\n",
    "    # Train D\n",
    "    x = next(data_iterator).to(device)\n",
    "    z = torch.normal(torch.zeros((x.size(0), z_dim)),\n",
    "                     torch.ones((x.size(0), z_dim))).to(device)\n",
    "\n",
    "    D.zero_grad()\n",
    "    label = torch.full((x.size(0),), real_label, device=device)\n",
    "    fake, _ = G(z)\n",
    "    real_loss = criterion(D(x), label)\n",
    "    real_loss.backward()\n",
    "\n",
    "    label.fill_(fake_label)\n",
    "    fake_loss = criterion(D(fake.detach()), label)\n",
    "    fake_loss.backward()\n",
    "    D_optimizer.step()\n",
    "\n",
    "    # Train G\n",
    "    G.zero_grad()\n",
    "    label.fill_(real_label)\n",
    "    G_loss = criterion(D(fake), label)\n",
    "    G_loss.backward()\n",
    "    G_optimizer.step()\n",
    "\n",
    "    # Summary\n",
    "    if step % 10 == 0:\n",
    "        with torch.no_grad():\n",
    "            z = torch.normal(torch.zeros((1000, z_dim)), 1.0).to(device)\n",
    "            samples, _ = G(z)\n",
    "            samples = samples.cpu().numpy()\n",
    "        display.clear_output(wait=True)\n",
    "        print(\"Step %d\" % step)\n",
    "        fig = visualize_samples(samples, 'octa/gan/%07d.png' % step)\n",
    "\n",
    "        # Visualize D's view\n",
    "        visualize_discriminator(D)\n"
   ]
  },
  {
   "cell_type": "markdown",
   "metadata": {},
   "source": [
    "# Train Gaussian Predictor"
   ]
  },
  {
   "cell_type": "code",
   "execution_count": null,
   "metadata": {},
   "outputs": [],
   "source": [
    "P_gaussian = Generator().to(device)\n",
    "P_optimizer = torch.optim.Adam(P_gaussian.parameters(), lr=0.0001)\n",
    "mse_loss = nn.MSELoss()\n",
    "summary_step = 50  # for MM\n",
    "summary_step = 5\n",
    "\n",
    "# Train\n",
    "training_loss_sum = 0.0\n",
    "for step in range(summary_step * 200):\n",
    "    # Train G\n",
    "    x = next(data_iterator).to(device)\n",
    "    z = torch.normal(torch.zeros((x.size(0), z_dim)),\n",
    "                     torch.ones((x.size(0), z_dim))).to(device)\n",
    "    P_gaussian.zero_grad()\n",
    "    mean, log_var = P_gaussian(z)\n",
    "    P_loss = ((mean - x) ** 2) / (2 * torch.exp(log_var)) + log_var / 2\n",
    "    P_loss.sum(dim=1).mean(dim=0).backward()\n",
    "    P_optimizer.step()\n",
    "\n",
    "    # Summary\n",
    "    if step % summary_step == 0:\n",
    "        with torch.no_grad():\n",
    "            z = torch.normal(torch.zeros((1000, z_dim)), 1.0).to(device)\n",
    "            mean, log_var = P_gaussian(z)\n",
    "            samples = torch.normal(mean.repeat(2, 1), log_var.exp().sqrt().repeat(2, 1))\n",
    "            mean = mean.cpu().numpy()\n",
    "            samples = samples.cpu().numpy()\n",
    "        display.clear_output(wait=True)\n",
    "        print(\"Step %d\" % step)\n",
    "        fig = visualize_samples(mean, 'octa/gaussian_pred_mean/%07d.png' % step)\n",
    "        fig = visualize_samples(samples, 'octa/gaussian_pred/%07d.png' % step)\n"
   ]
  },
  {
   "cell_type": "markdown",
   "metadata": {},
   "source": [
    "# Train Laplace Predictor"
   ]
  },
  {
   "cell_type": "code",
   "execution_count": null,
   "metadata": {},
   "outputs": [],
   "source": [
    "P_laplace = Generator().to(device)\n",
    "P_optimizer = torch.optim.Adam(P_laplace.parameters(), lr=0.0001)\n",
    "mse_loss = nn.MSELoss()\n",
    "summary_step = 50  # for MM\n",
    "summary_step = 5\n",
    "\n",
    "# Train\n",
    "training_loss_sum = 0.0\n",
    "for step in range(summary_step * 200):\n",
    "    # Train G\n",
    "    x = next(data_iterator).to(device)\n",
    "    z = torch.normal(torch.zeros((x.size(0), z_dim)),\n",
    "                     torch.ones((x.size(0), z_dim))).to(device)\n",
    "    P_laplace.zero_grad()\n",
    "    mean, log_var = P_laplace(z)\n",
    "    P_loss = (mean - x).abs() / torch.exp(log_var) + log_var\n",
    "    P_loss.sum(dim=1).mean(dim=0).backward()\n",
    "    P_optimizer.step()\n",
    "\n",
    "    # Summary\n",
    "    if step % summary_step == 0:\n",
    "        with torch.no_grad():\n",
    "            z = torch.normal(torch.zeros((1000, z_dim)), 1.0).to(device)\n",
    "            mean, log_var = P_laplace(z)\n",
    "            laplace = torch.distributions.laplace.Laplace(mean.repeat(2, 1), log_var.exp().repeat(2, 1))\n",
    "            samples = laplace.sample()\n",
    "            mean = mean.cpu().numpy()\n",
    "            samples = samples.cpu().numpy()\n",
    "        display.clear_output(wait=True)\n",
    "        print(\"Step %d\" % step)\n",
    "        fig = visualize_samples(mean, 'octa/laplace_pred_median/%07d.png' % step)\n",
    "        fig = visualize_samples(samples, 'octa/laplace_pred/%07d.png' % step)\n"
   ]
  },
  {
   "cell_type": "markdown",
   "metadata": {},
   "source": [
    "# Train GAN with L2 Loss"
   ]
  },
  {
   "cell_type": "code",
   "execution_count": null,
   "metadata": {},
   "outputs": [],
   "source": [
    "G = Generator().to(device)\n",
    "D = Discriminator().to(device)\n",
    "G_optimizer = torch.optim.Adam(G.parameters(), lr=0.0001)\n",
    "D_optimizer = torch.optim.Adam(D.parameters(), lr=0.0001)\n",
    "criterion = nn.BCELoss()\n",
    "real_label = 1\n",
    "fake_label = 0\n",
    "summary_step = 10\n",
    "\n",
    "# Train\n",
    "training_loss_sum = 0.0\n",
    "for step in range(summary_step * 200):\n",
    "    # Train D\n",
    "    x = next(data_iterator).to(device)\n",
    "    z = torch.normal(torch.zeros((x.size(0), z_dim)),\n",
    "                     torch.ones((x.size(0), z_dim))).to(device)\n",
    "\n",
    "    D.zero_grad()\n",
    "    label = torch.full((x.size(0),), real_label, device=device)\n",
    "    fake, _ = G(z)\n",
    "    real_loss = criterion(D(x), label)\n",
    "    real_loss.backward()\n",
    "\n",
    "    label.fill_(fake_label)\n",
    "    fake_loss = criterion(D(fake.detach()), label)\n",
    "    fake_loss.backward()\n",
    "    D_optimizer.step()\n",
    "\n",
    "    # Train G\n",
    "    G.zero_grad()\n",
    "    label.fill_(real_label)\n",
    "    G_loss = criterion(D(fake), label)\n",
    "    l2_loss = mse_loss(fake, x)\n",
    "    (G_loss + l2_loss).backward()\n",
    "    G_optimizer.step()\n",
    "\n",
    "    # Summary\n",
    "    if step % summary_step == 0:\n",
    "        with torch.no_grad():\n",
    "            z = torch.normal(torch.zeros((1000, z_dim)), 1.0).to(device)\n",
    "            samples, _ = G(z)\n",
    "            samples = samples.cpu().numpy()\n",
    "        display.clear_output(wait=True)\n",
    "        print(\"[Step %d] L2 Loss: %.3f | GAN Loss: %.3f\" % (step, l2_loss, G_loss))\n",
    "        fig = visualize_samples(samples, 'octa/gan+l2/%07d.png' % step)\n",
    "        fig = visualize_discriminator(D)"
   ]
  },
  {
   "cell_type": "markdown",
   "metadata": {},
   "source": [
    "# Train GAN with Gaussian Moment Matching"
   ]
  },
  {
   "cell_type": "code",
   "execution_count": 10,
   "metadata": {},
   "outputs": [],
   "source": [
    "def train_harmony(method, dist, order):\n",
    "    G = Generator().to(device)\n",
    "    D = Discriminator().to(device)\n",
    "    G_optimizer = torch.optim.Adam(G.parameters(), lr=0.0001)\n",
    "    D_optimizer = torch.optim.Adam(D.parameters(), lr=0.0001)\n",
    "    criterion = nn.BCELoss()\n",
    "    real_label = 1\n",
    "    fake_label = 0\n",
    "    summary_step = 75\n",
    "\n",
    "    # Train\n",
    "    training_loss_sum = 0.0\n",
    "    for step in range(summary_step * 200):\n",
    "        # Train D\n",
    "        x = next(data_iterator).to(device)\n",
    "        z = torch.normal(torch.zeros((x.size(0), z_dim)),\n",
    "                         torch.ones((x.size(0), z_dim))).to(device)\n",
    "\n",
    "        D.zero_grad()\n",
    "        label = torch.full((x.size(0),), real_label, device=device)\n",
    "        fake, _ = G(z)\n",
    "        real_loss = criterion(D(x), label)\n",
    "        real_loss.backward()\n",
    "\n",
    "        label.fill_(fake_label)\n",
    "        fake_loss = criterion(D(fake.detach()), label)\n",
    "        fake_loss.backward()\n",
    "        D_optimizer.step()\n",
    "\n",
    "        # Train G\n",
    "        with torch.no_grad():\n",
    "            p_mean, p_log_var = P(z)\n",
    "            p_var = torch.exp(p_log_var)\n",
    "        G.zero_grad()\n",
    "        label.fill_(real_label)\n",
    "        G_loss = criterion(D(fake), label)\n",
    "        gen_mean = fake.mean(dim=0)\n",
    "        gen_var = fake.std(dim=0) ** 2\n",
    "        mm_loss = (p_mean[0] - gen_mean) ** 2 + (p_var[0] - gen_var) ** 2\n",
    "        mm_loss = mm_loss.mean(dim=0)\n",
    "        (G_loss + mm_loss).backward()\n",
    "        G_optimizer.step()\n",
    "\n",
    "        # Summary\n",
    "        if step % summary_step == 0:\n",
    "            with torch.no_grad():\n",
    "                z = torch.normal(torch.zeros((1000, z_dim)), 1.0).to(device)\n",
    "                samples, _ = G(z)\n",
    "                samples = samples.cpu().numpy()\n",
    "            display.clear_output(wait=True)\n",
    "            print(\"[Step %d] MM Loss: %.3f | GAN Loss: %.3f\" % (step, mm_loss, G_loss))\n",
    "            fig = visualize_samples(samples, 'octa/mm/%07d.png' % step)\n",
    "            fig = visualize_discriminator(D)\n"
   ]
  },
  {
   "cell_type": "markdown",
   "metadata": {},
   "source": [
    "# Train GAN with L1 Loss"
   ]
  },
  {
   "cell_type": "code",
   "execution_count": 11,
   "metadata": {},
   "outputs": [
    {
     "ename": "NameError",
     "evalue": "name 'data_iterator' is not defined",
     "output_type": "error",
     "traceback": [
      "\u001b[0;31m----------------------------------------------------------\u001b[0m",
      "\u001b[0;31mNameError\u001b[0m                Traceback (most recent call last)",
      "\u001b[0;32m<ipython-input-11-dcccf3325d8a>\u001b[0m in \u001b[0;36m<module>\u001b[0;34m()\u001b[0m\n\u001b[1;32m     10\u001b[0m \u001b[0;32mfor\u001b[0m \u001b[0mstep\u001b[0m \u001b[0;32min\u001b[0m \u001b[0mrange\u001b[0m\u001b[0;34m(\u001b[0m\u001b[0mmax_step\u001b[0m\u001b[0;34m)\u001b[0m\u001b[0;34m:\u001b[0m\u001b[0;34m\u001b[0m\u001b[0;34m\u001b[0m\u001b[0m\n\u001b[1;32m     11\u001b[0m     \u001b[0;31m# Train D\u001b[0m\u001b[0;34m\u001b[0m\u001b[0;34m\u001b[0m\u001b[0;34m\u001b[0m\u001b[0m\n\u001b[0;32m---> 12\u001b[0;31m     \u001b[0mx\u001b[0m \u001b[0;34m=\u001b[0m \u001b[0mnext\u001b[0m\u001b[0;34m(\u001b[0m\u001b[0mdata_iterator\u001b[0m\u001b[0;34m)\u001b[0m\u001b[0;34m.\u001b[0m\u001b[0mto\u001b[0m\u001b[0;34m(\u001b[0m\u001b[0mdevice\u001b[0m\u001b[0;34m)\u001b[0m\u001b[0;34m\u001b[0m\u001b[0;34m\u001b[0m\u001b[0m\n\u001b[0m\u001b[1;32m     13\u001b[0m     z = torch.normal(torch.zeros((x.size(0), z_dim)),\n\u001b[1;32m     14\u001b[0m                      torch.ones((x.size(0), z_dim))).to(device)\n",
      "\u001b[0;31mNameError\u001b[0m: name 'data_iterator' is not defined"
     ]
    }
   ],
   "source": [
    "G = Generator().to(device)\n",
    "D = Discriminator().to(device)\n",
    "G_optimizer = torch.optim.SGD(G.parameters(), lr=0.001)\n",
    "D_optimizer = torch.optim.SGD(D.parameters(), lr=0.001)\n",
    "criterion = nn.BCELoss()\n",
    "real_label = 1\n",
    "fake_label = 0\n",
    "# Train\n",
    "training_loss_sum = 0.0\n",
    "for step in range(max_step):\n",
    "    # Train D\n",
    "    x = next(data_iterator).to(device)\n",
    "    z = torch.normal(torch.zeros((x.size(0), z_dim)),\n",
    "                     torch.ones((x.size(0), z_dim))).to(device)\n",
    "\n",
    "    D.zero_grad()\n",
    "    label = torch.full((x.size(0),), real_label, device=device)\n",
    "    fake, _ = G(z)\n",
    "    real_loss = criterion(D(x), label)\n",
    "    real_loss.backward()\n",
    "\n",
    "    label.fill_(fake_label)\n",
    "    fake_loss = criterion(D(fake.detach()), label)\n",
    "    fake_loss.backward()\n",
    "    D_optimizer.step()\n",
    "\n",
    "    # Train G\n",
    "    G.zero_grad()\n",
    "    label.fill_(real_label)\n",
    "    G_loss = criterion(D(fake), label)\n",
    "    l1_loss = (fake - x).abs().mean()\n",
    "    (G_loss + l1_loss).backward()\n",
    "    G_optimizer.step()\n",
    "\n",
    "    # Summary\n",
    "    if step % summary_step == 0:\n",
    "        with torch.no_grad():\n",
    "            z = torch.normal(torch.zeros((1000, z_dim)), 1.0).to(device)\n",
    "            samples, _ = G(z)\n",
    "            samples = samples.cpu().numpy()\n",
    "        display.clear_output(wait=True)\n",
    "        print(\"[Step %d] L1 Loss: %.3f | GAN Loss: %.3f\" % (step, l1_loss, G_loss))\n",
    "        os.makedirs('notebooks/toy_data_summary/gan+l1', exist_ok=True)\n",
    "        fig = visualize_samples(samples)\n",
    "        fig.savefig('notebooks/toy_data_summary/gan+l1/%07d.pdf' % step, bbox_inches='tight', pad_inches=0)\n",
    "\n",
    "        # Visualize D's view\n",
    "        fig = visualize_discriminator(D)\n",
    "        fig.savefig('notebooks/toy_data_summary/gan+l1/d_%07d.pdf' % step, bbox_inches='tight', pad_inches=0)\n"
   ]
  },
  {
   "cell_type": "markdown",
   "metadata": {},
   "source": [
    "# Train Laplace Predictor"
   ]
  },
  {
   "cell_type": "code",
   "execution_count": 12,
   "metadata": {},
   "outputs": [
    {
     "ename": "NameError",
     "evalue": "name 'data_iterator' is not defined",
     "output_type": "error",
     "traceback": [
      "\u001b[0;31m----------------------------------------------------------\u001b[0m",
      "\u001b[0;31mNameError\u001b[0m                Traceback (most recent call last)",
      "\u001b[0;32m<ipython-input-12-c13199198052>\u001b[0m in \u001b[0;36m<module>\u001b[0;34m()\u001b[0m\n\u001b[1;32m      6\u001b[0m \u001b[0;32mfor\u001b[0m \u001b[0mstep\u001b[0m \u001b[0;32min\u001b[0m \u001b[0mrange\u001b[0m\u001b[0;34m(\u001b[0m\u001b[0mmax_step\u001b[0m\u001b[0;34m)\u001b[0m\u001b[0;34m:\u001b[0m\u001b[0;34m\u001b[0m\u001b[0;34m\u001b[0m\u001b[0m\n\u001b[1;32m      7\u001b[0m     \u001b[0;31m# Train G\u001b[0m\u001b[0;34m\u001b[0m\u001b[0;34m\u001b[0m\u001b[0;34m\u001b[0m\u001b[0m\n\u001b[0;32m----> 8\u001b[0;31m     \u001b[0mx\u001b[0m \u001b[0;34m=\u001b[0m \u001b[0mnext\u001b[0m\u001b[0;34m(\u001b[0m\u001b[0mdata_iterator\u001b[0m\u001b[0;34m)\u001b[0m\u001b[0;34m.\u001b[0m\u001b[0mto\u001b[0m\u001b[0;34m(\u001b[0m\u001b[0mdevice\u001b[0m\u001b[0;34m)\u001b[0m\u001b[0;34m\u001b[0m\u001b[0;34m\u001b[0m\u001b[0m\n\u001b[0m\u001b[1;32m      9\u001b[0m     z = torch.normal(torch.zeros((x.size(0), z_dim)),\n\u001b[1;32m     10\u001b[0m                      torch.ones((x.size(0), z_dim))).to(device)\n",
      "\u001b[0;31mNameError\u001b[0m: name 'data_iterator' is not defined"
     ]
    }
   ],
   "source": [
    "P_laplace = Generator().to(device)\n",
    "P_optimizer = torch.optim.SGD(P_laplace.parameters(), lr=0.001)\n",
    "mse_loss = nn.MSELoss()\n",
    "# Train\n",
    "training_loss_sum = 0.0\n",
    "for step in range(max_step):\n",
    "    # Train G\n",
    "    x = next(data_iterator).to(device)\n",
    "    z = torch.normal(torch.zeros((x.size(0), z_dim)),\n",
    "                     torch.ones((x.size(0), z_dim))).to(device)\n",
    "    P_laplace.zero_grad()\n",
    "    mean, log_var = P_laplace(z)\n",
    "    P_loss = (mean - x).abs() / torch.exp(log_var) + log_var\n",
    "    P_loss.sum(dim=1).mean(dim=0).backward()\n",
    "    P_optimizer.step()\n",
    "\n",
    "    # Summary\n",
    "    if step % summary_step == 0:\n",
    "        with torch.no_grad():\n",
    "            z = torch.normal(torch.zeros((1000, z_dim)), 1.0).to(device)\n",
    "            mean, log_var = P_laplace(z)\n",
    "            dist = torch.distributions.Laplace(mean, log_var.exp())\n",
    "            samples = dist.sample()\n",
    "            mean = mean.cpu().numpy()\n",
    "            samples = samples.cpu().numpy()\n",
    "        display.clear_output(wait=True)\n",
    "        print(\"Step %d\" % step)\n",
    "        os.makedirs('notebooks/toy_data_summary/predictor_laplace_median', exist_ok=True)\n",
    "        fig = visualize_samples(mean)\n",
    "        fig.savefig('notebooks/toy_data_summary/predictor_laplace_median/%07d.pdf' % step, bbox_inches='tight', pad_inches=0)\n",
    "        fig = visualize_samples(samples)\n",
    "        fig.savefig('notebooks/toy_data_summary/predictor_laplace_sample/%07d.pdf' % step, bbox_inches='tight', pad_inches=0)\n"
   ]
  },
  {
   "cell_type": "markdown",
   "metadata": {},
   "source": [
    "# Train GAN with Laplace Moment Matching"
   ]
  },
  {
   "cell_type": "code",
   "execution_count": 13,
   "metadata": {},
   "outputs": [
    {
     "ename": "NameError",
     "evalue": "name 'data_iterator' is not defined",
     "output_type": "error",
     "traceback": [
      "\u001b[0;31m----------------------------------------------------------\u001b[0m",
      "\u001b[0;31mNameError\u001b[0m                Traceback (most recent call last)",
      "\u001b[0;32m<ipython-input-13-749a5ce1d334>\u001b[0m in \u001b[0;36m<module>\u001b[0;34m()\u001b[0m\n\u001b[1;32m     11\u001b[0m \u001b[0;32mfor\u001b[0m \u001b[0mstep\u001b[0m \u001b[0;32min\u001b[0m \u001b[0mrange\u001b[0m\u001b[0;34m(\u001b[0m\u001b[0mmax_step\u001b[0m \u001b[0;34m*\u001b[0m \u001b[0;36m5\u001b[0m\u001b[0;34m)\u001b[0m\u001b[0;34m:\u001b[0m\u001b[0;34m\u001b[0m\u001b[0;34m\u001b[0m\u001b[0m\n\u001b[1;32m     12\u001b[0m     \u001b[0;31m# Train D\u001b[0m\u001b[0;34m\u001b[0m\u001b[0;34m\u001b[0m\u001b[0;34m\u001b[0m\u001b[0m\n\u001b[0;32m---> 13\u001b[0;31m     \u001b[0mx\u001b[0m \u001b[0;34m=\u001b[0m \u001b[0mnext\u001b[0m\u001b[0;34m(\u001b[0m\u001b[0mdata_iterator\u001b[0m\u001b[0;34m)\u001b[0m\u001b[0;34m.\u001b[0m\u001b[0mto\u001b[0m\u001b[0;34m(\u001b[0m\u001b[0mdevice\u001b[0m\u001b[0;34m)\u001b[0m\u001b[0;34m\u001b[0m\u001b[0;34m\u001b[0m\u001b[0m\n\u001b[0m\u001b[1;32m     14\u001b[0m     z = torch.normal(torch.zeros((x.size(0), z_dim)),\n\u001b[1;32m     15\u001b[0m                      torch.ones((x.size(0), z_dim))).to(device)\n",
      "\u001b[0;31mNameError\u001b[0m: name 'data_iterator' is not defined"
     ]
    }
   ],
   "source": [
    "G = Generator().to(device)\n",
    "D = Discriminator().to(device)\n",
    "G_optimizer = torch.optim.SGD(G.parameters(), lr=0.001)\n",
    "D_optimizer = torch.optim.SGD(D.parameters(), lr=0.001)\n",
    "criterion = nn.BCELoss()\n",
    "real_label = 1\n",
    "fake_label = 0\n",
    "\n",
    "# Train\n",
    "training_loss_sum = 0.0\n",
    "for step in range(max_step * 5):\n",
    "    # Train D\n",
    "    x = next(data_iterator).to(device)\n",
    "    z = torch.normal(torch.zeros((x.size(0), z_dim)),\n",
    "                     torch.ones((x.size(0), z_dim))).to(device)\n",
    "\n",
    "    D.zero_grad()\n",
    "    label = torch.full((x.size(0),), real_label, device=device)\n",
    "    fake, _ = G(z)\n",
    "    real_loss = criterion(D(x), label)\n",
    "    real_loss.backward()\n",
    "\n",
    "    label.fill_(fake_label)\n",
    "    fake_loss = criterion(D(fake.detach()), label)\n",
    "    fake_loss.backward()\n",
    "    D_optimizer.step()\n",
    "\n",
    "    # Train G\n",
    "    with torch.no_grad():\n",
    "        p_mean, p_log_var = P_laplace(z)\n",
    "        p_var = torch.exp(p_log_var)\n",
    "    G.zero_grad()\n",
    "    label.fill_(real_label)\n",
    "    G_loss = criterion(D(fake), label)\n",
    "    gen_median = fake.median(dim=0, keepdim=True)[0]\n",
    "    gen_mad = (fake - gen_median).abs().mean(0)\n",
    "    gen_median = gen_median.squeeze(0)\n",
    "    mm_loss = (p_mean[0] - gen_median) ** 2 + (p_var[0] - gen_mad) ** 2\n",
    "    mm_loss = mm_loss.mean(dim=0)\n",
    "    (G_loss + mm_loss).backward()\n",
    "    G_optimizer.step()\n",
    "\n",
    "    # Summary\n",
    "    if step % summary_step == 0:\n",
    "        with torch.no_grad():\n",
    "            z = torch.normal(torch.zeros((1000, z_dim)), 1.0).to(device)\n",
    "            samples, _ = G(z)\n",
    "            samples = samples.cpu().numpy()\n",
    "        display.clear_output(wait=True)\n",
    "        print(\"[Step %d] MM Loss: %.3f | GAN Loss: %.3f\" % (step, mm_loss, G_loss))\n",
    "        fig = visualize_samples(samples)\n",
    "        os.makedirs('notebooks/toy_data_summary/gan+laplace_mm', exist_ok=True)\n",
    "        fig.savefig('notebooks/toy_data_summary/gan+laplace_mm/%07d.pdf' % step, bbox_inches='tight', pad_inches=0)\n",
    "\n",
    "        # Visualize D's view\n",
    "        fig = visualize_discriminator(D)\n",
    "        fig.savefig('notebooks/toy_data_summary/gan+laplace_mm/d_%07d.pdf' % step, bbox_inches='tight', pad_inches=0)\n"
   ]
  },
  {
   "cell_type": "code",
   "execution_count": null,
   "metadata": {},
   "outputs": [],
   "source": []
  },
  {
   "cell_type": "code",
   "execution_count": null,
   "metadata": {},
   "outputs": [],
   "source": []
  },
  {
   "cell_type": "code",
   "execution_count": null,
   "metadata": {},
   "outputs": [],
   "source": []
  },
  {
   "cell_type": "code",
   "execution_count": null,
   "metadata": {},
   "outputs": [],
   "source": []
  },
  {
   "cell_type": "code",
   "execution_count": null,
   "metadata": {},
   "outputs": [],
   "source": []
  }
 ],
 "metadata": {
  "kernelspec": {
   "display_name": "Python 3",
   "language": "python",
   "name": "python3"
  },
  "language_info": {
   "codemirror_mode": {
    "name": "ipython",
    "version": 3
   },
   "file_extension": ".py",
   "mimetype": "text/x-python",
   "name": "python",
   "nbconvert_exporter": "python",
   "pygments_lexer": "ipython3",
   "version": "3.6.8"
  }
 },
 "nbformat": 4,
 "nbformat_minor": 2
}
