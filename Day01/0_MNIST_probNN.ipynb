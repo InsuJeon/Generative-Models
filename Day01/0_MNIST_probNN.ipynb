{
 "cells": [
  {
   "cell_type": "markdown",
   "metadata": {},
   "source": [
    "# MNIST classification with Probabilisitc Neural Network"
   ]
  },
  {
   "cell_type": "markdown",
   "metadata": {},
   "source": [
    "### Import Library"
   ]
  },
  {
   "cell_type": "code",
   "execution_count": 1,
   "metadata": {},
   "outputs": [
    {
     "data": {
      "text/plain": [
       "<torch._C.Generator at 0x7f550006ef70>"
      ]
     },
     "execution_count": 1,
     "metadata": {},
     "output_type": "execute_result"
    }
   ],
   "source": [
    "# Pytorch Library\n",
    "import torch\n",
    "from torch import nn, optim\n",
    "import torchvision.utils as utils\n",
    "import torchvision.datasets as dset\n",
    "import torchvision.transforms as transforms\n",
    "import numpy as np\n",
    "from matplotlib import pyplot as plt\n",
    "%matplotlib inline\n",
    "torch.manual_seed(777)  # reproducibility"
   ]
  },
  {
   "cell_type": "markdown",
   "metadata": {},
   "source": [
    "### Prepare MNIST dataset and dataloader"
   ]
  },
  {
   "cell_type": "code",
   "execution_count": 2,
   "metadata": {},
   "outputs": [
    {
     "name": "stdout",
     "output_type": "stream",
     "text": [
      "Downloading http://yann.lecun.com/exdb/mnist/train-images-idx3-ubyte.gz\n",
      "Downloading http://yann.lecun.com/exdb/mnist/train-labels-idx1-ubyte.gz\n",
      "Downloading http://yann.lecun.com/exdb/mnist/t10k-images-idx3-ubyte.gz\n",
      "Downloading http://yann.lecun.com/exdb/mnist/t10k-labels-idx1-ubyte.gz\n",
      "Processing...\n",
      "Done!\n",
      "number of data 60000\n"
     ]
    }
   ],
   "source": [
    "data = dset.MNIST(\"./\", train=True, transform=transforms.ToTensor(), download=True)\n",
    "print('number of data', len(data))"
   ]
  },
  {
   "cell_type": "code",
   "execution_count": 3,
   "metadata": {
    "collapsed": false
   },
   "outputs": [
    {
     "data": {
      "image/png": "[encoded data removed]",
      "text/plain": [
       "<Figure size 432x288 with 1 Axes>"
      ]
     },
     "metadata": {},
     "output_type": "display_data"
    }
   ],
   "source": [
    "img, label = data[0]\n",
    "#plt.figure(figsize=[6,6])\n",
    "plt.imshow(img.squeeze().numpy(), cmap='gray')\n",
    "plt.show()"
   ]
  },
  {
   "cell_type": "code",
   "execution_count": 4,
   "metadata": {},
   "outputs": [],
   "source": [
    "batch_size = 100\n",
    "data_loader = torch.utils.data.DataLoader(data,batch_size=batch_size, shuffle=True,num_workers=2)"
   ]
  },
  {
   "cell_type": "markdown",
   "metadata": {},
   "source": [
    "## 1. Conventional Fully Connected (FC) Neural Network "
   ]
  },
  {
   "cell_type": "markdown",
   "metadata": {},
   "source": [
    "#### Define Model"
   ]
  },
  {
   "cell_type": "code",
   "execution_count": 5,
   "metadata": {},
   "outputs": [],
   "source": [
    "input_size = 28*28\n",
    "output_size = 10\n",
    "hid1_size = 256\n",
    "hid2_size = 128"
   ]
  },
  {
   "cell_type": "code",
   "execution_count": 6,
   "metadata": {
    "collapsed": true
   },
   "outputs": [
    {
     "data": {
      "text/plain": [
       "FC(\n",
       "  (fc1): Linear(in_features=784, out_features=256, bias=True)\n",
       "  (fc2): Linear(in_features=256, out_features=128, bias=True)\n",
       "  (logits): Linear(in_features=128, out_features=10, bias=True)\n",
       ")"
      ]
     },
     "execution_count": 6,
     "metadata": {},
     "output_type": "execute_result"
    }
   ],
   "source": [
    "class FC(nn.Module):\n",
    "    def __init__(self):\n",
    "        super(FC, self).__init__()\n",
    "        self.fc1 = nn.Linear(input_size, hid1_size)\n",
    "        self.fc2 = nn.Linear(hid1_size, hid2_size)\n",
    "        self.logits = nn.Linear(hid2_size, output_size)\n",
    "    def forward(self, input): # no activation function\n",
    "        output = self.fc1(input)\n",
    "        output = self.fc2(output)\n",
    "        output = self.logits(output)\n",
    "        return output\n",
    "net_fc = FC()\n",
    "net_fc.cuda()"
   ]
  },
  {
   "cell_type": "markdown",
   "metadata": {},
   "source": [
    "#### Train Model"
   ]
  },
  {
   "cell_type": "code",
   "execution_count": 14,
   "metadata": {
    "collapsed": false
   },
   "outputs": [],
   "source": [
    "# Build a convinience function for reuse\n",
    "def train(net):\n",
    "    acc_log = []\n",
    "    loss_log = []\n",
    "    criterion = nn.CrossEntropyLoss()\n",
    "    optimizer = optim.Adam(net.parameters(), lr=0.001)\n",
    "    max_epoch = 30\n",
    "    accuracy = 0\n",
    "    output_frequency = 1\n",
    "    \n",
    "    for epoch in range(max_epoch):\n",
    "        for i, (images, labels) in enumerate(data_loader):\n",
    "\n",
    "            optimizer.zero_grad()             # Zero Gradient Container\n",
    "\n",
    "            X = images.view(-1, input_size).cuda()\n",
    "            Y = labels.cuda()        # label is not one-hot encoded\n",
    "            logits = net(X)           # Forward Propagation\n",
    "            loss = criterion(logits, Y) # compute cost\n",
    "\n",
    "            loss.backward()                   # compute gradient\n",
    "            optimizer.step()                  # gradient update\n",
    "            \n",
    "            loss_log.append(loss.item())\n",
    "            _, idx = logits.cpu().max(dim=1)\n",
    "            accuracy += torch.sum(idx.view(batch_size) == labels.cpu()).item() / batch_size\n",
    "\n",
    "        if epoch%output_frequency == 0:\n",
    "            accuracy /= 60000/batch_size\n",
    "            acc_log.append(accuracy)\n",
    "            print(\"epoch {}, loss {}, accuracy {:6.4f}\".format(epoch, loss.item(), accuracy))\n",
    "            accuracy = 0\n",
    "    return acc_log, loss_log"
   ]
  },
  {
   "cell_type": "code",
   "execution_count": 15,
   "metadata": {},
   "outputs": [
    {
     "name": "stdout",
     "output_type": "stream",
     "text": [
      "epoch 0, loss 0.42216822504997253, accuracy 0.9257\n",
      "epoch 1, loss 0.44471436738967896, accuracy 0.9245\n",
      "epoch 2, loss 0.2154730260372162, accuracy 0.9255\n",
      "epoch 3, loss 0.21554253995418549, accuracy 0.9266\n",
      "epoch 4, loss 0.22164778411388397, accuracy 0.9270\n",
      "epoch 5, loss 0.3942492604255676, accuracy 0.9263\n",
      "epoch 6, loss 0.15498343110084534, accuracy 0.9268\n",
      "epoch 7, loss 0.30223655700683594, accuracy 0.9284\n",
      "epoch 8, loss 0.30549803376197815, accuracy 0.9284\n",
      "epoch 9, loss 0.3879879117012024, accuracy 0.9283\n",
      "epoch 10, loss 0.1677778661251068, accuracy 0.9298\n",
      "epoch 11, loss 0.1511961966753006, accuracy 0.9281\n",
      "epoch 12, loss 0.234945148229599, accuracy 0.9283\n",
      "epoch 13, loss 0.3012317717075348, accuracy 0.9297\n",
      "epoch 14, loss 0.2286638617515564, accuracy 0.9295\n",
      "epoch 15, loss 0.3072064518928528, accuracy 0.9292\n",
      "epoch 16, loss 0.1850736290216446, accuracy 0.9296\n",
      "epoch 17, loss 0.18752487003803253, accuracy 0.9293\n",
      "epoch 18, loss 0.16514647006988525, accuracy 0.9300\n",
      "epoch 19, loss 0.1671440154314041, accuracy 0.9306\n",
      "epoch 20, loss 0.36423441767692566, accuracy 0.9300\n",
      "epoch 21, loss 0.16392631828784943, accuracy 0.9304\n",
      "epoch 22, loss 0.2227628380060196, accuracy 0.9307\n",
      "epoch 23, loss 0.18308532238006592, accuracy 0.9309\n",
      "epoch 24, loss 0.15464241802692413, accuracy 0.9299\n",
      "epoch 25, loss 0.2405855506658554, accuracy 0.9308\n",
      "epoch 26, loss 0.3099729120731354, accuracy 0.9309\n",
      "epoch 27, loss 0.2907122075557709, accuracy 0.9317\n",
      "epoch 28, loss 0.22670021653175354, accuracy 0.9317\n",
      "epoch 29, loss 0.2085328847169876, accuracy 0.9315\n"
     ]
    }
   ],
   "source": [
    "acc_fc, loss_fc = train(net_fc)"
   ]
  },
  {
   "cell_type": "markdown",
   "metadata": {},
   "source": [
    "## 2. Neural Network with Gaussian Latent Layer\n",
    "Model NN(x) :\n",
    "\n",
    "- $ a \\sim P(a | \\mu(x),\\sigma(x))$  (x is image input)\n",
    "\n",
    "- $ y = fc2(a) $                     (y is label)\n",
    "\n",
    "Model NN(x) (reparameterization):\n",
    "\n",
    "- $ a=\\mu(x) + \\sigma(x)*\\epsilon$  where $\\epsilon \\sim Gaussian(0,1)$ (reparameterization)\n",
    "\n",
    "- $ y = fc2(a) $                     (y is label)\n",
    "\n",
    "Loss: \n",
    "\n",
    "- $CrossEntropy(y,fc2(a)) + KL(Gaussian(0,1) || Gaussian(\\mu(x),\\sigma(x)))$"
   ]
  },
  {
   "cell_type": "code",
   "execution_count": 17,
   "metadata": {
    "collapsed": false
   },
   "outputs": [
    {
     "data": {
      "text/plain": [
       "GaussianNN(\n",
       "  (fc1_mu): Linear(in_features=784, out_features=256, bias=True)\n",
       "  (fc1_sigma): Linear(in_features=784, out_features=256, bias=True)\n",
       "  (fc2): Linear(in_features=256, out_features=128, bias=True)\n",
       "  (logits): Linear(in_features=128, out_features=10, bias=True)\n",
       ")"
      ]
     },
     "execution_count": 17,
     "metadata": {},
     "output_type": "execute_result"
    }
   ],
   "source": [
    "class GaussianNN(nn.Module):\n",
    "    def __init__(self):\n",
    "        super(GaussianNN, self).__init__()\n",
    "        self.fc1_mu = nn.Linear(input_size, hid1_size)\n",
    "        self.fc1_sigma = nn.Linear(input_size, hid1_size)\n",
    "        self.fc2 = nn.Linear(hid1_size, hid2_size)\n",
    "        self.logits = nn.Linear(hid2_size, output_size)\n",
    "        \n",
    "    def forward(self, input): # no activation function\n",
    "        mu = self.fc1_mu(input)\n",
    "        sigma = self.fc1_sigma(input)\n",
    "        noise = torch.randn(mu.size()).cuda()\n",
    "        noise = mu+sigma*noise\n",
    "        output = self.fc2(noise)\n",
    "        output = self.logits(output)\n",
    "        return output, mu, sigma, noise\n",
    "\n",
    "net_gaussian = GaussianNN()\n",
    "net_gaussian.cuda()"
   ]
  },
  {
   "cell_type": "markdown",
   "metadata": {},
   "source": [
    "### Train Model"
   ]
  },
  {
   "cell_type": "code",
   "execution_count": 20,
   "metadata": {
    "collapsed": true
   },
   "outputs": [],
   "source": [
    "# Build a convinience function for reuse\n",
    "def train(net):\n",
    "    acc_log = []\n",
    "    loss_log = []\n",
    "    criterion = nn.CrossEntropyLoss()\n",
    "    optimizer = optim.Adam(net.parameters(), lr=0.001)\n",
    "    max_epoch = 30\n",
    "    accuracy = 0\n",
    "    output_frequency = 1\n",
    "    for epoch in range(max_epoch):\n",
    "        for i, (images, labels) in enumerate(data_loader):\n",
    "            optimizer.zero_grad()             # Zero Gradient Container\n",
    "\n",
    "            X = images.view(-1, input_size).cuda()\n",
    "            Y = labels.cuda()                  # label is not one-hot encoded\n",
    "            logits, mu, sigma, noise = net(X)  # Forward Propagation\n",
    "            loss = criterion(logits, Y)        # compute cost\n",
    "            loss += torch.mean(mu**2 + torch.mean(sigma**2) - torch.log(sigma**2+1e-8) - 1) # latent loss\n",
    "\n",
    "            loss.backward()                   # compute gradient\n",
    "            optimizer.step()                  # gradient update\n",
    "         \n",
    "            loss_log.append(loss.item())\n",
    "            _, idx = logits.cpu().max(dim=1)\n",
    "            accuracy += torch.sum(idx.view(batch_size) == labels.cpu()).item() / batch_size\n",
    "\n",
    "        if epoch%output_frequency == 0:\n",
    "            accuracy /= 60000/batch_size\n",
    "            acc_log.append(accuracy)\n",
    "            print(\"epoch {}, loss {}, accuracy {:6.4f}\".format(epoch, loss.item(), accuracy))\n",
    "            accuracy = 0\n",
    "    return acc_log, loss_log\n"
   ]
  },
  {
   "cell_type": "code",
   "execution_count": 21,
   "metadata": {
    "collapsed": false
   },
   "outputs": [
    {
     "name": "stdout",
     "output_type": "stream",
     "text": [
      "epoch 0, loss 0.81312096118927, accuracy 0.8393\n",
      "epoch 1, loss 0.7378884553909302, accuracy 0.8626\n",
      "epoch 2, loss 0.7240248918533325, accuracy 0.8681\n",
      "epoch 3, loss 0.7296925783157349, accuracy 0.8754\n",
      "epoch 4, loss 0.593469500541687, accuracy 0.8783\n",
      "epoch 5, loss 0.5158708095550537, accuracy 0.8838\n",
      "epoch 6, loss 0.6605126261711121, accuracy 0.8863\n",
      "epoch 7, loss 0.5710251927375793, accuracy 0.8903\n",
      "epoch 8, loss 0.5542190074920654, accuracy 0.8917\n",
      "epoch 9, loss 0.638914942741394, accuracy 0.8942\n",
      "epoch 10, loss 0.4397118091583252, accuracy 0.8978\n",
      "epoch 11, loss 0.5654210448265076, accuracy 0.8976\n",
      "epoch 12, loss 0.43102264404296875, accuracy 0.8966\n",
      "epoch 13, loss 0.4512672424316406, accuracy 0.8992\n",
      "epoch 14, loss 0.5550481677055359, accuracy 0.8981\n",
      "epoch 15, loss 0.49977564811706543, accuracy 0.8998\n",
      "epoch 16, loss 0.5924245715141296, accuracy 0.9008\n",
      "epoch 17, loss 0.5135105848312378, accuracy 0.9009\n",
      "epoch 18, loss 0.610207200050354, accuracy 0.9024\n",
      "epoch 19, loss 0.44529086351394653, accuracy 0.9015\n",
      "epoch 20, loss 0.5401016473770142, accuracy 0.9030\n",
      "epoch 21, loss 0.4342115521430969, accuracy 0.9041\n",
      "epoch 22, loss 0.43950697779655457, accuracy 0.9066\n",
      "epoch 23, loss 0.47927603125572205, accuracy 0.9066\n",
      "epoch 24, loss 0.4870884418487549, accuracy 0.9043\n",
      "epoch 25, loss 0.5636301636695862, accuracy 0.9057\n",
      "epoch 26, loss 0.4741470217704773, accuracy 0.9061\n",
      "epoch 27, loss 0.44390809535980225, accuracy 0.9079\n",
      "epoch 28, loss 0.6370350122451782, accuracy 0.9070\n",
      "epoch 29, loss 0.4761803150177002, accuracy 0.9065\n"
     ]
    }
   ],
   "source": [
    "acc_gaussian, loss_gaussian = train(net_gaussian)"
   ]
  },
  {
   "cell_type": "markdown",
   "metadata": {},
   "source": [
    "### 3. Zero-centered Uniform Latent Net\n",
    "Model NN(x) :\n",
    "\n",
    "- $ a \\sim P(a | \\mu(x),\\sigma(x))$  (x is image input)\n",
    "\n",
    "- $ y = fc2(a) $                     (y is label)\n",
    "\n",
    "Model NN(x) (reparameterization):\n",
    "\n",
    "- $ a=\\mu(x) + \\sigma(x)*\\epsilon$  where $\\epsilon \\sim Uniform(-0.5,0.5)$ (reparameterization)\n",
    "\n",
    "- $ y = fc2(a) $                     (y is label)\n",
    "\n",
    "Loss: \n",
    "\n",
    "- $CrossEntropy(y,fc2(a)) + KL(Gaussian(0,1) || Gaussian(\\mu(x),\\sigma(x)))$"
   ]
  },
  {
   "cell_type": "code",
   "execution_count": 22,
   "metadata": {
    "collapsed": true
   },
   "outputs": [
    {
     "data": {
      "text/plain": [
       "UniformNN(\n",
       "  (fc1_mu): Linear(in_features=784, out_features=256, bias=True)\n",
       "  (fc1_sigma): Linear(in_features=784, out_features=256, bias=True)\n",
       "  (fc2): Linear(in_features=256, out_features=128, bias=True)\n",
       "  (logits): Linear(in_features=128, out_features=10, bias=True)\n",
       ")"
      ]
     },
     "execution_count": 22,
     "metadata": {},
     "output_type": "execute_result"
    }
   ],
   "source": [
    "class UniformNN(nn.Module):\n",
    "    def __init__(self):\n",
    "        super(UniformNN, self).__init__()\n",
    "        self.fc1_mu = nn.Linear(input_size, hid1_size)\n",
    "        self.fc1_sigma = nn.Linear(input_size, hid1_size)\n",
    "        self.fc2 = nn.Linear(hid1_size, hid2_size)\n",
    "        self.logits = nn.Linear(hid2_size, output_size)\n",
    "        \n",
    "    def forward(self, input): # no activation function\n",
    "        mu = self.fc1_mu(input)\n",
    "        sigma = self.fc1_sigma(input)\n",
    "        noise = torch.rand(mu.size()).cuda()-0.5\n",
    "        noise = mu+sigma*noise\n",
    "        output = self.fc2(noise)\n",
    "        output = self.logits(output)\n",
    "        return output, mu, sigma, noise\n",
    "    \n",
    "net_uniform = UniformNN()\n",
    "net_uniform.cuda()"
   ]
  },
  {
   "cell_type": "code",
   "execution_count": 23,
   "metadata": {
    "collapsed": false
   },
   "outputs": [
    {
     "name": "stdout",
     "output_type": "stream",
     "text": [
      "epoch 0, loss 0.6309908628463745, accuracy 0.8792\n",
      "epoch 1, loss 0.46502286195755005, accuracy 0.8968\n",
      "epoch 2, loss 0.45638054609298706, accuracy 0.8990\n",
      "epoch 3, loss 0.4982227087020874, accuracy 0.9008\n",
      "epoch 4, loss 0.5881772637367249, accuracy 0.9024\n",
      "epoch 5, loss 0.4686458110809326, accuracy 0.9024\n",
      "epoch 6, loss 0.22975566983222961, accuracy 0.9038\n",
      "epoch 7, loss 0.41796714067459106, accuracy 0.9049\n",
      "epoch 8, loss 0.4512791633605957, accuracy 0.9057\n",
      "epoch 9, loss 0.3911142945289612, accuracy 0.9070\n",
      "epoch 10, loss 0.4532027840614319, accuracy 0.9076\n",
      "epoch 11, loss 0.4592922627925873, accuracy 0.9080\n",
      "epoch 12, loss 0.5921841859817505, accuracy 0.9081\n",
      "epoch 13, loss 0.2966078519821167, accuracy 0.9096\n",
      "epoch 14, loss 0.5257330536842346, accuracy 0.9108\n",
      "epoch 15, loss 0.4086162745952606, accuracy 0.9111\n",
      "epoch 16, loss 0.42832550406455994, accuracy 0.9111\n",
      "epoch 17, loss 0.3168146312236786, accuracy 0.9115\n",
      "epoch 18, loss 0.4121221601963043, accuracy 0.9123\n",
      "epoch 19, loss 0.5203074216842651, accuracy 0.9131\n",
      "epoch 20, loss 0.3557626008987427, accuracy 0.9132\n",
      "epoch 21, loss 0.45527130365371704, accuracy 0.9130\n",
      "epoch 22, loss 0.32326894998550415, accuracy 0.9135\n",
      "epoch 23, loss 0.35315853357315063, accuracy 0.9132\n",
      "epoch 24, loss 0.3084547817707062, accuracy 0.9138\n",
      "epoch 25, loss 0.4341275990009308, accuracy 0.9144\n",
      "epoch 26, loss 0.398496150970459, accuracy 0.9150\n",
      "epoch 27, loss 0.4962180256843567, accuracy 0.9153\n",
      "epoch 28, loss 0.40534454584121704, accuracy 0.9146\n",
      "epoch 29, loss 0.2892603278160095, accuracy 0.9154\n"
     ]
    }
   ],
   "source": [
    "acc_uniform, loss_uniform = train(net_uniform)"
   ]
  },
  {
   "cell_type": "markdown",
   "metadata": {},
   "source": [
    "### Compare training loss and accuracy of 1, 2 and 3"
   ]
  },
  {
   "cell_type": "code",
   "execution_count": 24,
   "metadata": {
    "collapsed": false
   },
   "outputs": [
    {
     "data": {
      "text/plain": [
       "Text(0,0.5,'loss')"
      ]
     },
     "execution_count": 24,
     "metadata": {},
     "output_type": "execute_result"
    },
    {
     "data": {
      "image/png": "[encoded data removed]",
      "text/plain": [
       "<Figure size 720x432 with 1 Axes>"
      ]
     },
     "metadata": {},
     "output_type": "display_data"
    }
   ],
   "source": [
    "plt.figure(figsize=[10,6])\n",
    "for loss in [loss_gaussian, loss_uniform, loss_fc]:\n",
    "    plt.plot(np.convolve(loss, np.ones(30)))\n",
    "plt.xlim([0,15000])\n",
    "plt.ylim([0,50])\n",
    "plt.legend(['Gaussian','Uniform','FC'])\n",
    "plt.title('training loss (time-averaged)')\n",
    "plt.xlabel('iteration')\n",
    "plt.ylabel('loss')"
   ]
  },
  {
   "cell_type": "code",
   "execution_count": 25,
   "metadata": {
    "collapsed": false
   },
   "outputs": [
    {
     "data": {
      "text/plain": [
       "Text(0,0.5,'accuracy')"
      ]
     },
     "execution_count": 25,
     "metadata": {},
     "output_type": "execute_result"
    },
    {
     "data": {
      "image/png": "[encoded data removed]",
      "text/plain": [
       "<Figure size 720x432 with 1 Axes>"
      ]
     },
     "metadata": {},
     "output_type": "display_data"
    }
   ],
   "source": [
    "plt.figure(figsize=[10,6])\n",
    "for acc in [acc_gaussian, acc_uniform, acc_fc]:\n",
    "    plt.plot(range(30), acc,'-d')\n",
    "\n",
    "plt.legend(['Gaussian','Uniform','FC'])\n",
    "plt.title('training accuracy')\n",
    "plt.xlabel('epoch')\n",
    "plt.ylabel('accuracy')"
   ]
  },
  {
   "cell_type": "code",
   "execution_count": null,
   "metadata": {},
   "outputs": [],
   "source": []
  }
 ],
 "metadata": {
  "kernelspec": {
   "display_name": "Python [conda env:py36]",
   "language": "python",
   "name": "conda-env-py36-py"
  },
  "language_info": {
   "codemirror_mode": {
    "name": "ipython",
    "version": 3
   },
   "file_extension": ".py",
   "mimetype": "text/x-python",
   "name": "python",
   "nbconvert_exporter": "python",
   "pygments_lexer": "ipython3",
   "version": "3.6.5"
  }
 },
 "nbformat": 4,
 "nbformat_minor": 2
}
