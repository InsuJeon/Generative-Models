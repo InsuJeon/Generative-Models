{
 "cells": [
  {
   "cell_type": "markdown",
   "metadata": {},
   "source": [
    "# Module Import"
   ]
  },
  {
   "cell_type": "code",
   "execution_count": 1,
   "metadata": {
    "ExecuteTime": {
     "end_time": "2018-01-12T16:50:10.691485Z",
     "start_time": "2018-01-12T16:50:10.685254Z"
    }
   },
   "outputs": [],
   "source": [
    "import torch\n",
    "import torch.nn as nn\n",
    "import torch.optim as optim\n",
    "import torchvision.datasets as dset\n",
    "import torchvision.transforms as transforms\n",
    "from torch.utils.data import DataLoader\n",
    "\n",
    "import numpy as np\n",
    "import matplotlib.pyplot as plt\n",
    "import matplotlib.gridspec as gridspec\n",
    "import os"
   ]
  },
  {
   "cell_type": "markdown",
   "metadata": {},
   "source": [
    "# Dataset"
   ]
  },
  {
   "cell_type": "code",
   "execution_count": 2,
   "metadata": {},
   "outputs": [],
   "source": [
    "mnist_train = dset.MNIST(\"../data/MNIST\", train=True, transform=transforms.ToTensor(), target_transform=None, download=True)\n",
    "#mnist_test = dset.MNIST(\"../data/MNIST\", train=False, transform=transforms.ToTensor(), target_transform=None, download=True)"
   ]
  },
  {
   "cell_type": "code",
   "execution_count": 3,
   "metadata": {},
   "outputs": [],
   "source": [
    "batch_size = 100\n",
    "train_loader = torch.utils.data.DataLoader(mnist_train,batch_size=batch_size, shuffle=True,num_workers=2,drop_last=True)\n",
    "#test_loader = torch.utils.data.DataLoader(mnist_test,batch_size=batch_size, shuffle=False,num_workers=2,drop_last=True)"
   ]
  },
  {
   "cell_type": "markdown",
   "metadata": {},
   "source": [
    "# Conditional VAE\n",
    "![CVAE](complements/CVAE.png)"
   ]
  },
  {
   "cell_type": "markdown",
   "metadata": {},
   "source": [
    "# Architecture"
   ]
  },
  {
   "cell_type": "code",
   "execution_count": 4,
   "metadata": {
    "ExecuteTime": {
     "end_time": "2018-01-12T16:50:12.154087Z",
     "start_time": "2018-01-12T16:50:12.118779Z"
    }
   },
   "outputs": [],
   "source": [
    "hidden_size = 10\n",
    "\n",
    "class Encoder(nn.Module):\n",
    "    def __init__(self):\n",
    "        super(Encoder,self).__init__()\n",
    "        self.fc1 = nn.Sequential(\n",
    "                        nn.Conv2d(2,16,3,padding=1),   # batch x 16 x 28 x 28\n",
    "                        nn.BatchNorm2d(16),\n",
    "                        nn.ReLU(),\n",
    "                        nn.MaxPool2d(2,2), \n",
    "                        nn.Conv2d(16,32,3,padding=1),  # batch x 32x 14 x 14\n",
    "                        nn.BatchNorm2d(32),\n",
    "                        nn.ReLU(),\n",
    "                        nn.MaxPool2d(2,2),\n",
    "                        nn.Conv2d(32,32,3,padding=1),  # batch x 32 x 7 x 7\n",
    "                        nn.BatchNorm2d(32),\n",
    "                        nn.ReLU(),\n",
    "                        nn.MaxPool2d(2,2),\n",
    "                        nn.Conv2d(32,64,3),            # batch x 64 x 1 x 1\n",
    "                        nn.BatchNorm2d(64),\n",
    "                        nn.ReLU(),\n",
    "        )\n",
    "        self.fc2_1 = nn.Sequential(\n",
    "                        nn.Linear(64*1*1, 256),\n",
    "                        nn.ReLU(),\n",
    "                        nn.Linear(256, hidden_size),\n",
    "        )\n",
    "        self.fc2_2 = nn.Sequential(\n",
    "                        nn.Linear(64*1*1, 256),\n",
    "                        nn.ReLU(),\n",
    "                        nn.Linear(256, hidden_size),\n",
    "        )\n",
    "        self.relu = nn.ReLU()\n",
    "                        \n",
    "    def encode(self, x, label):\n",
    "        \n",
    "        c = label.view(-1,1,1,1).expand_as(x)\n",
    "        out = self.fc1( torch.cat((x,c),1)) \n",
    "        out = out.view(x.size(0),-1)\n",
    "        \n",
    "        out = self.relu(out)\n",
    "        mu = self.fc2_1(out)\n",
    "        log_var = self.fc2_2(out)\n",
    "        return mu,log_var\n",
    "    \n",
    "    def forward(self, x, label):\n",
    "\n",
    "        mu, logvar = self.encode(x,label)\n",
    "        noise = torch.randn(mu.size()).cuda()\n",
    "        z = mu+logvar.exp()*noise    \n",
    "        \n",
    "        return z,mu,logvar\n",
    "        \n",
    "encoder = Encoder().cuda()"
   ]
  },
  {
   "cell_type": "code",
   "execution_count": 5,
   "metadata": {},
   "outputs": [],
   "source": [
    "class Decoder(nn.Module):\n",
    "    def __init__(self):\n",
    "        super(Decoder,self).__init__()\n",
    "        self.fc1 = nn.Sequential(\n",
    "                        nn.Linear(hidden_size+1, 800),\n",
    "                        nn.BatchNorm1d(800),\n",
    "                        nn.ReLU(),\n",
    "                        nn.Linear(800,1568),\n",
    "                        nn.ReLU(),\n",
    "        )\n",
    "        self.fc2 = nn.Sequential(\n",
    "                        nn.ConvTranspose2d(32+1,16,3,2,1,1),\n",
    "                        nn.ReLU(),\n",
    "                        nn.BatchNorm2d(16),\n",
    "                        nn.ConvTranspose2d(16,8,3,2,1,1),\n",
    "                        nn.ReLU(),\n",
    "                        nn.BatchNorm2d(8),\n",
    "                        nn.ConvTranspose2d(8,1,3,1,1),\n",
    "                        nn.BatchNorm2d(1),\n",
    "        )\n",
    "        self.sigmoid = nn.Sigmoid()\n",
    "        self.relu = nn.ReLU()\n",
    "    \n",
    "    def forward(self, x, label):\n",
    "       \n",
    "        out = self.fc1(torch.cat((x,label.unsqueeze(1)),1))\n",
    "        out = self.relu(out)\n",
    "        out = out.view(x.size(0),32,7,7)\n",
    "        \n",
    "        c = label.view(-1,1,1,1).expand(x.size(0),1,7,7)\n",
    "        out = self.fc2(torch.cat((out,c),1))\n",
    "        out = self.sigmoid(out)\n",
    "        out = out.view(x.size(0),1,28,28)\n",
    "        \n",
    "        return out\n",
    "        \n",
    "decoder = Decoder().cuda()"
   ]
  },
  {
   "cell_type": "markdown",
   "metadata": {},
   "source": [
    "# Total Loss\n",
    "![total_loss](complements/total_loss.JPG)\n",
    "# Reconstruction Loss\n",
    "![reconstruction_loss](complements/reconstruction_loss.JPG)\n",
    "# KLD Loss\n",
    "![KLD2](complements/KLD_analytic2.JPG)\n",
    "![KLD](complements/KLD_analytic.JPG)\n"
   ]
  },
  {
   "cell_type": "markdown",
   "metadata": {},
   "source": [
    "# Training"
   ]
  },
  {
   "cell_type": "code",
   "execution_count": 6,
   "metadata": {},
   "outputs": [
    {
     "name": "stderr",
     "output_type": "stream",
     "text": [
      "/home/isjeon/anaconda3/lib/python3.6/site-packages/torch/nn/_reduction.py:49: UserWarning: size_average and reduce args will be deprecated, please use reduction='sum' instead.\n",
      "  warnings.warn(warning.format(ret))\n"
     ]
    }
   ],
   "source": [
    "reconstruction_function = nn.BCELoss(size_average=False)\n",
    "\n",
    "def loss_function(recon_x, x, mu, logvar):\n",
    "    BCE = reconstruction_function(recon_x, x)\n",
    "\n",
    "    # see Appendix B from VAE paper:\n",
    "    # Kingma and Welling. Auto-Encoding Variational Bayes. ICLR, 2014\n",
    "    # https://arxiv.org/abs/1312.6114\n",
    "    # 0.5 * sum(1 + log(sigma^2) - mu^2 - sigma^2)\n",
    "    KLD_element = mu.pow(2).add_(logvar.exp()).mul_(-1).add_(1).add_(logvar)\n",
    "    KLD = torch.sum(KLD_element).mul_(-0.5)\n",
    "\n",
    "    return BCE + KLD\n",
    "\n",
    "parameters = list(encoder.parameters())+ list(decoder.parameters())\n",
    "optimizer = torch.optim.Adam(parameters, lr=0.00001)"
   ]
  },
  {
   "cell_type": "code",
   "execution_count": 7,
   "metadata": {},
   "outputs": [
    {
     "name": "stdout",
     "output_type": "stream",
     "text": [
      "\n",
      "--------model not restored--------\n",
      "\n",
      "loss is 53424.171875\n",
      "loss is 53075.8203125\n",
      "loss is 52741.9140625\n",
      "loss is 52559.42578125\n",
      "loss is 52249.04296875\n",
      "loss is 51956.29296875\n",
      "loss is 51678.80078125\n",
      "loss is 51482.05078125\n",
      "loss is 51225.296875\n",
      "loss is 50915.17578125\n",
      "loss is 50785.1796875\n",
      "loss is 50429.98046875\n",
      "loss is 50258.29296875\n",
      "loss is 49942.4453125\n",
      "loss is 49745.48046875\n",
      "loss is 49429.484375\n",
      "loss is 49264.9375\n",
      "loss is 48906.5234375\n",
      "loss is 48705.90234375\n",
      "loss is 48411.2265625\n",
      "loss is 48131.33984375\n",
      "loss is 47921.3515625\n",
      "loss is 47588.38671875\n",
      "loss is 47441.69921875\n",
      "loss is 47156.3515625\n",
      "loss is 47003.65234375\n",
      "loss is 46688.63671875\n",
      "loss is 46543.45703125\n",
      "loss is 46254.10546875\n",
      "loss is 45853.1875\n"
     ]
    }
   ],
   "source": [
    "try:\n",
    "    encoder, decoder = torch.load('./conditional_vae.pkl')\n",
    "    print(\"\\n--------model restored--------\\n\")\n",
    "except:\n",
    "    print(\"\\n--------model not restored--------\\n\")\n",
    "    pass\n",
    "\n",
    "num_epoch = 30\n",
    "\n",
    "for i in range(num_epoch):\n",
    "    for j,[image,label] in enumerate(train_loader):\n",
    "        image = image.cuda()\n",
    "        label = label.cuda() \n",
    "        \n",
    "        z, mu,log_var  = encoder(image, label.float())\n",
    "        output = decoder(z, label.float())\n",
    "        \n",
    "        loss = loss_function(output, image, mu, log_var)\n",
    "        \n",
    "        optimizer.zero_grad()\n",
    "        loss.backward()\n",
    "        optimizer.step()\n",
    "\n",
    "    print(\"loss is\", loss.cpu().item())        \n"
   ]
  },
  {
   "cell_type": "code",
   "execution_count": 8,
   "metadata": {},
   "outputs": [
    {
     "name": "stderr",
     "output_type": "stream",
     "text": [
      "/home/isjeon/anaconda3/lib/python3.6/site-packages/torch/serialization.py:251: UserWarning: Couldn't retrieve source code for container of type Encoder. It won't be checked for correctness upon loading.\n",
      "  \"type \" + obj.__name__ + \". It won't be checked \"\n",
      "/home/isjeon/anaconda3/lib/python3.6/site-packages/torch/serialization.py:251: UserWarning: Couldn't retrieve source code for container of type Decoder. It won't be checked for correctness upon loading.\n",
      "  \"type \" + obj.__name__ + \". It won't be checked \"\n"
     ]
    }
   ],
   "source": [
    "torch.save([encoder,decoder],'conditional_vae.pkl')"
   ]
  },
  {
   "cell_type": "markdown",
   "metadata": {},
   "source": [
    "## Testing"
   ]
  },
  {
   "cell_type": "code",
   "execution_count": 9,
   "metadata": {
    "ExecuteTime": {
     "start_time": "2018-01-12T16:51:25.231Z"
    }
   },
   "outputs": [
    {
     "name": "stdout",
     "output_type": "stream",
     "text": [
      "torch.Size([100, 28, 28])\n"
     ]
    },
    {
     "data": {
      "image/png": "[encoded data removed]",
      "text/plain": [
       "<Figure size 432x288 with 1 Axes>"
      ]
     },
     "metadata": {
      "needs_background": "light"
     },
     "output_type": "display_data"
    },
    {
     "data": {
      "image/png": "[encoded data removed]",
      "text/plain": [
       "<Figure size 432x288 with 1 Axes>"
      ]
     },
     "metadata": {
      "needs_background": "light"
     },
     "output_type": "display_data"
    },
    {
     "data": {
      "image/png": "[encoded data removed]",
      "text/plain": [
       "<Figure size 432x288 with 1 Axes>"
      ]
     },
     "metadata": {
      "needs_background": "light"
     },
     "output_type": "display_data"
    },
    {
     "data": {
      "image/png": "[encoded data removed]",
      "text/plain": [
       "<Figure size 432x288 with 1 Axes>"
      ]
     },
     "metadata": {
      "needs_background": "light"
     },
     "output_type": "display_data"
    },
    {
     "data": {
      "image/png": "[encoded data removed]",
      "text/plain": [
       "<Figure size 432x288 with 1 Axes>"
      ]
     },
     "metadata": {
      "needs_background": "light"
     },
     "output_type": "display_data"
    }
   ],
   "source": [
    "out_img = torch.squeeze(output.cpu().data)\n",
    "print(out_img.size())\n",
    "\n",
    "for i in range(5):\n",
    "    #plt.imshow(torch.squeeze(image[i]).numpy(),cmap='gray')\n",
    "    #plt.show()\n",
    "    plt.imshow(out_img[i].numpy(),cmap='gray')\n",
    "    plt.show()"
   ]
  },
  {
   "cell_type": "code",
   "execution_count": 10,
   "metadata": {},
   "outputs": [
    {
     "data": {
      "image/png": "[encoded data removed]",
      "text/plain": [
       "<Figure size 432x288 with 1 Axes>"
      ]
     },
     "metadata": {
      "needs_background": "light"
     },
     "output_type": "display_data"
    }
   ],
   "source": [
    "#image = image.cuda()\n",
    "#z, mean, var = encoder(image)\n",
    "\n",
    "decoder.eval()\n",
    "z = torch.randn(1,hidden_size).cuda()\n",
    "output = decoder(z,torch.FloatTensor([1]).cuda())\n",
    "plt.imshow(output[0,0].cpu().detach().numpy(),cmap='gray')\n",
    "plt.show()"
   ]
  },
  {
   "cell_type": "code",
   "execution_count": null,
   "metadata": {},
   "outputs": [],
   "source": []
  },
  {
   "cell_type": "code",
   "execution_count": null,
   "metadata": {},
   "outputs": [],
   "source": []
  }
 ],
 "metadata": {
  "kernelspec": {
   "display_name": "Python 3",
   "language": "python",
   "name": "python3"
  },
  "language_info": {
   "codemirror_mode": {
    "name": "ipython",
    "version": 3
   },
   "file_extension": ".py",
   "mimetype": "text/x-python",
   "name": "python",
   "nbconvert_exporter": "python",
   "pygments_lexer": "ipython3",
   "version": "3.6.8"
  }
 },
 "nbformat": 4,
 "nbformat_minor": 2
}
